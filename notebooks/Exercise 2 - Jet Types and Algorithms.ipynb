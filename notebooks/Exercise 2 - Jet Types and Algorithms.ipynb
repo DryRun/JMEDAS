{
 "cells": [
  {
   "cell_type": "markdown",
   "metadata": {},
   "source": [
    "# Jet Types and Algorithms\n",
    "\n",
    "The jet algorithms take as input a set of 4-vectors. At CMS, the most popular jet type is the \"Particle Flow Jet\", which attempts to use the entire detector at once and derive single four-vectors representing specific particles.For this reason it is very comparable (ideally) to clustering generator-level four-vectors also.\n",
    "\n",
    "## Particle Flow Jets (PFJets)\n",
    "\n",
    "Particle Flow candidates (PFCandidates) combine information from various detectors to make a combined estimation of particle properties based on their assigned identities (photon, electron, muon, charged hadron, neutral hadron).\n",
    "\n",
    "PFJets are created by clustering PFCandidates into jets, and contain information about contributions of every particle class: Electromagnetic/hadronic, Charged/neutral etc.\n",
    "\n",
    "The jet response is high. The jet pT resolution is good: starting at 15--20% at low pT and asymptotically reaching 5% at high pT.\n",
    "\n",
    "## Monte Carlo Generator-level Jets (GenJets)\n",
    "\n",
    "GenJets are pure Monte Carlo simulated jets. They are useful for analysis with MC samples. GenJets are formed by clustering the four-momenta of Monte Carlo truth particles. This may include “invisible” particles (muons, neutrinos, WIMPs, etc.).\n",
    "\n",
    "As there are no detector effects involved, the jet response (or jet energy scale) is 1, and the jet resolution is perfect, by definition.\n",
    "\n",
    "GenJets include information about the 4-vectors of the constituent particles, the hadronic and electromagnetic components of the energy etc.\n",
    "\n",
    "## Calorimeter Jets (CaloJets)\n",
    "\n",
    "CaloJets are formed from energy deposits in the calorimeters (hadronic and electromagnetic), with no tracking information considered. In the barrel region, a calorimeter tower consists of a single HCAL cell and the associated 5x5 array of ECAL crystals (the HCAL-ECAL association is similar but more complicated in the endcap region). The four-momentum of a tower is assigned from the energy of the tower, assuming zero mass, with the direction corresponding to the tower position from the interaction point.\n",
    "\n",
    "In CMS, CaloJets are used less often than PFJets. Examples of their use include performance studies to disentangle tracker and calorimeter effects, and trigger-level analyses where the tracker is neglected to reduce the event processing time. ATLAS makes much more use of CaloJets, as their version of particle flow is not as mature as CMS's."
   ]
  },
  {
   "cell_type": "markdown",
   "metadata": {},
   "source": [
    "## Exercise: Reconstructed vs. Generator-Level Jets\n",
    "\n",
    "Execute the following cell to make some more jet histograms, this time from QCD MC. "
   ]
  },
  {
   "cell_type": "code",
   "execution_count": 1,
   "metadata": {},
   "outputs": [
    {
     "name": "stderr",
     "output_type": "stream",
     "text": [
      "bash: line 1: jmedas_make_histograms.py: command not found\n"
     ]
    }
   ],
   "source": [
    "%%bash\n",
    "python $CMSSW_BASE/src/Analysis/JMEDAS/scripts/jmedas_make_histograms.py --files=$CMSSW_BASE/src/Analysis/JMEDAS/data/MiniAODs/RunIIFall17MiniAODv2/QCD_Pt_300to470.txt --outname=$CMSSW_BASE/src/Analysis/JMEDAS/notebooks/files/qcd_300to470.root --maxevents=2000 --maxjets=2\n"
   ]
  },
  {
   "cell_type": "markdown",
   "metadata": {},
   "source": [
    "...and then make the plots:"
   ]
  },
  {
   "cell_type": "markdown",
   "metadata": {},
   "source": [
    "#### import ROOT\n",
    "f = ROOT.TFile(\"files/qcd_300to470.root\")\n",
    "\n",
    "h_ptAK4   = f.Get(\"h_ptAK4\")\n",
    "h_etaAK4  = f.Get(\"h_etaAK4\")\n",
    "h_phiAK4  = f.Get(\"h_phiAK4\")\n",
    "h_mAK4    = f.Get(\"h_mAK4\")\n",
    "\n",
    "h_ptAK4Gen   = f.Get(\"h_ptAK4Gen\")\n",
    "h_etaAK4Gen  = f.Get(\"h_etaAK4Gen\")\n",
    "h_phiAK4Gen  = f.Get(\"h_phiAK4Gen\")\n",
    "h_mAK4Gen    = f.Get(\"h_mAK4Gen\")\n",
    "\n",
    "h_ptAK4Gen.SetLineStyle(2) \n",
    "h_etaAK4Gen.SetLineStyle(2) \n",
    "h_phiAK4Gen.SetLineStyle(2) \n",
    "h_mAK4Gen.SetLineStyle(2) \n",
    "\n",
    "h_ptAK4Gen.SetLineColor(2) \n",
    "h_etaAK4Gen.SetLineColor(2) \n",
    "h_phiAK4Gen.SetLineColor(2) \n",
    "h_mAK4Gen.SetLineColor(2)\n",
    "\n",
    "c = ROOT.TCanvas('c', 'c', 800, 800)\n",
    "\n",
    "c.Divide(2,2)\n",
    "c.cd(1)\n",
    "ROOT.gPad.SetLogy()\n",
    "h_ptAK4.Draw()\n",
    "h_ptAK4Gen.Draw(\"same\")\n",
    "h_ptAK4.GetXaxis().SetRangeUser(0, 1000)\n",
    "leg = ROOT.TLegend(0.6, 0.6, 0.8, 0.8)\n",
    "leg.AddEntry(h_ptAK4, \"RECO\", \"l\")\n",
    "leg.AddEntry(h_ptAK4Gen, \"GEN\", \"l\")\n",
    "leg.SetFillColor(0)\n",
    "leg.SetLineColor(0)\n",
    "leg.Draw(\"same\")\n",
    "c.cd(2)\n",
    "h_etaAK4.Draw()\n",
    "h_etaAK4Gen.Draw(\"same\")\n",
    "c.cd(3)\n",
    "h_phiAK4.Draw()\n",
    "h_phiAK4Gen.Draw(\"same\")\n",
    "h_phiAK4.SetMinimum(0)\n",
    "c.cd(4)\n",
    "h_mAK4.Draw()\n",
    "h_mAK4Gen.Draw(\"same\")\n",
    "h_mAK4.GetXaxis().SetRangeUser(0, 200)\n",
    "ROOT.gPad.SetLogy()\n",
    "\n",
    "ROOT.enableJSVis()\n",
    "c.Draw()\n"
   ]
  },
  {
   "cell_type": "markdown",
   "metadata": {},
   "source": [
    "As you can see, the agreement isn't very good! Can you guess why?\n",
    "\n",
    "<details>\n",
    "<summary>\n",
    "    <font color='blue'>Show answer...</font>\n",
    "</summary>\n",
    "We need to apply the jet energy corrections (JEC), which are described in the next exercise. But before we do that, we'll go over the jet clustering algorithms used in CMS.\n",
    "</details>"
   ]
  },
  {
   "cell_type": "markdown",
   "metadata": {},
   "source": [
    "# Jet Clustering Algorithms\n",
    "\n",
    "The majority of jet algorithms at CMS use a so-called \"clustering sequence\". This is essentially a pairwise examination of the input four-vectors. If the pair satisfy some criteria, they are merged. The process is repeated until the entire list of constituents is exhausted. In addition, there are several ways to determine the \"area\" of the jet over which the input constituents lay. This is very important in correcting for pileup, as we will see, because some algorithms tend to \"consume\" more constituents than others and hence are more susceptible to pileup. Furthermore, the amount of energy that is inside of a jet due to pileup is proportional to the area, so to correct for this effect it is very important to know the jet area.\n",
    "\n",
    "\n",
    "\n",
    "<img src=\"files/JHEP04_2008_063.jpg\" alt=\"\" style=\"width: 600px;\"/>\n",
    "Figure: Comparison of jet areas for four different jet algorithms, from \"The anti-kt Clustering Algorithm\" by Cacciari, Salam, and Soyez [JHEP04, 063 (2008), arXiv:0802.1189].\n",
    "\n",
    "Some excellent references about jet algorithms can be found here:\n",
    "\n",
    "- [Toward Jetography](http://arxiv.org/abs/0906.1833) by Gavin Salam.\n",
    "- [Jets in Hadron-Hadron Collisions](http://arxiv.org/abs/0712.2447) by Ellis, Huston, Hatakeyama, Loch, and Toennesmann\n",
    "- [The Catchment Area of Jets](http://arxiv.org/abs/0802.1188) by Cacciari, Salam, and Soyez.\n",
    "- [The anti-kt Clustering Algorithm](http://arxiv.org/abs/0802.1189) by Cacciari, Salam, and Soyez.\n"
   ]
  },
  {
   "cell_type": "markdown",
   "metadata": {},
   "source": [
    "## Exercise: Comparing jet areas between AK4 and AK8\n",
    "\n",
    "Run the cell below to plot a comparison of the jets areas between AK4 and AK8 jets. A priori, what type of distribution do you expect?"
   ]
  },
  {
   "cell_type": "code",
   "execution_count": 24,
   "metadata": {},
   "outputs": [
    {
     "name": "stderr",
     "output_type": "stream",
     "text": [
      "Warning in <TCanvas::Constructor>: Deleting canvas with same name: c\n"
     ]
    },
    {
     "data": {
      "text/html": [
       "\n",
       "<div id=\"root_plot_12\"\n",
       "     style=\"width: 696px; height: 472px\">\n",
       "</div>\n",
       "\n",
       "<script>\n",
       " requirejs.config({\n",
       "     paths: {\n",
       "       'JSRootCore' : 'https://root.cern.ch/js/notebook//scripts/JSRootCore',\n",
       "     }\n",
       "   });\n",
       " require(['JSRootCore'],\n",
       "     function(Core) {\n",
       "       var obj = Core.JSONR_unref({\"_typename\":\"TCanvas\",\"fUniqueID\":0,\"fBits\":53673992,\"fLineColor\":1,\"fLineStyle\":1,\"fLineWidth\":1,\"fFillColor\":0,\"fFillStyle\":1001,\"fLeftMargin\":0.1,\"fRightMargin\":0.1,\"fBottomMargin\":0.1,\"fTopMargin\":0.1,\"fXfile\":2,\"fYfile\":2,\"fAfile\":1,\"fXstat\":0.99,\"fYstat\":0.99,\"fAstat\":2,\"fFrameFillColor\":0,\"fFrameLineColor\":1,\"fFrameFillStyle\":1001,\"fFrameLineStyle\":1,\"fFrameLineWidth\":1,\"fFrameBorderSize\":1,\"fFrameBorderMode\":0,\"fX1\":-0.625000046566132,\"fY1\":-0.0445252988133802,\"fX2\":5.62500004656613,\"fY2\":0.400727662781276,\"fXtoAbsPixelk\":69.6000541484835,\"fXtoPixelk\":69.6000541484835,\"fXtoPixel\":111.359998340607,\"fYtoAbsPixelk\":424.800047186661,\"fYtoPixelk\":424.800047186661,\"fYtoPixel\":-1060.0715564239,\"fUtoAbsPixelk\":5e-5,\"fUtoPixelk\":5e-5,\"fUtoPixel\":696,\"fVtoAbsPixelk\":472.00005,\"fVtoPixelk\":472,\"fVtoPixel\":-472,\"fAbsPixeltoXk\":-0.625000046566132,\"fPixeltoXk\":-0.625000046566132,\"fPixeltoX\":0.00897988519128199,\"fAbsPixeltoYk\":0.400727662781276,\"fPixeltoYk\":-0.0445252988133802,\"fPixeltoY\":-9.4333254575139e-4,\"fXlowNDC\":0,\"fYlowNDC\":0,\"fXUpNDC\":0,\"fYUpNDC\":0,\"fWNDC\":1,\"fHNDC\":1,\"fAbsXlowNDC\":0,\"fAbsYlowNDC\":0,\"fAbsWNDC\":1,\"fAbsHNDC\":1,\"fUxmin\":0,\"fUymin\":0,\"fUxmax\":5,\"fUymax\":0.356202363967896,\"fTheta\":30,\"fPhi\":30,\"fAspectRatio\":0,\"fNumber\":0,\"fTickx\":0,\"fTicky\":0,\"fLogx\":0,\"fLogy\":0,\"fLogz\":0,\"fPadPaint\":0,\"fCrosshair\":0,\"fCrosshairPos\":0,\"fBorderSize\":2,\"fBorderMode\":0,\"fModified\":false,\"fGridx\":false,\"fGridy\":false,\"fAbsCoord\":false,\"fEditable\":true,\"fFixedAspectRatio\":false,\"fPrimitives\":{\"_typename\":\"TList\",\"name\":\"TList\",\"arr\":[{\"_typename\":\"TFrame\",\"fUniqueID\":0,\"fBits\":50331656,\"fLineColor\":1,\"fLineStyle\":1,\"fLineWidth\":1,\"fFillColor\":0,\"fFillStyle\":1001,\"fX1\":0,\"fY1\":0,\"fX2\":5,\"fY2\":0.356202363967896,\"fBorderSize\":1,\"fBorderMode\":0},{\"_typename\":\"TH1F\",\"fUniqueID\":0,\"fBits\":50331656,\"fName\":\"h_areaAK4\",\"fTitle\":\"Jet Areas\",\"fLineColor\":602,\"fLineStyle\":1,\"fLineWidth\":1,\"fFillColor\":0,\"fFillStyle\":1001,\"fMarkerColor\":1,\"fMarkerStyle\":1,\"fMarkerSize\":1,\"fNcells\":252,\"fXaxis\":{\"_typename\":\"TAxis\",\"fUniqueID\":0,\"fBits\":50331648,\"fName\":\"xaxis\",\"fTitle\":\"Area\",\"fNdivisions\":510,\"fAxisColor\":1,\"fLabelColor\":1,\"fLabelFont\":42,\"fLabelOffset\":0.005,\"fLabelSize\":0.035,\"fTickLength\":0.03,\"fTitleOffset\":1,\"fTitleSize\":0.035,\"fTitleColor\":1,\"fTitleFont\":42,\"fNbins\":250,\"fXmin\":0,\"fXmax\":5,\"fXbins\":[],\"fFirst\":0,\"fLast\":0,\"fBits2\":0,\"fTimeDisplay\":false,\"fTimeFormat\":\"\",\"fLabels\":null,\"fModLabs\":null},\"fYaxis\":{\"_typename\":\"TAxis\",\"fUniqueID\":0,\"fBits\":50331648,\"fName\":\"yaxis\",\"fTitle\":\"\",\"fNdivisions\":510,\"fAxisColor\":1,\"fLabelColor\":1,\"fLabelFont\":42,\"fLabelOffset\":0.005,\"fLabelSize\":0.035,\"fTickLength\":0.03,\"fTitleOffset\":0,\"fTitleSize\":0.035,\"fTitleColor\":1,\"fTitleFont\":42,\"fNbins\":1,\"fXmin\":0,\"fXmax\":1,\"fXbins\":[],\"fFirst\":0,\"fLast\":0,\"fBits2\":0,\"fTimeDisplay\":false,\"fTimeFormat\":\"\",\"fLabels\":null,\"fModLabs\":null},\"fZaxis\":{\"_typename\":\"TAxis\",\"fUniqueID\":0,\"fBits\":50331648,\"fName\":\"zaxis\",\"fTitle\":\"\",\"fNdivisions\":510,\"fAxisColor\":1,\"fLabelColor\":1,\"fLabelFont\":42,\"fLabelOffset\":0.005,\"fLabelSize\":0.035,\"fTickLength\":0.03,\"fTitleOffset\":1,\"fTitleSize\":0.035,\"fTitleColor\":1,\"fTitleFont\":42,\"fNbins\":1,\"fXmin\":0,\"fXmax\":1,\"fXbins\":[],\"fFirst\":0,\"fLast\":0,\"fBits2\":0,\"fTimeDisplay\":false,\"fTimeFormat\":\"\",\"fLabels\":null,\"fModLabs\":null},\"fBarOffset\":0,\"fBarWidth\":1000,\"fEntries\":0,\"fTsumw\":0,\"fTsumw2\":0,\"fTsumwx\":0,\"fTsumwx2\":0,\"fMaximum\":0.356202363967896,\"fMinimum\":-1111,\"fNormFactor\":0,\"fContour\":[],\"fSumw2\":[0,0,0,0,0,0,0,0,0,0,0,0,0,0,0,0,0,0,0,0,0,0,0,0,0,0,0,0,0,0,0,0,0,0,0,0,0,0,0,0,0,0,0,0,0,0,0,0,0,0,0,0,0,0,0,0,0,0,0,0,0,0,0,0,0,0,0,0,0,0,0,0,0,0,0,0,0,0,0,0,0,0,0,0,0,0,0,0,0,0,0,0,0,0,0,0,0,0,0,0,0,0,0,0,0,0,0,0,0,0,0,0,0,0,0,0,0,0,0,0,0,0,0,0,0,0,0,0,0,0,0,0,0,0,0,0,0,0,0,0,0,0,0,0,0,0,0,0,0,0,0,0,0,0,0,0,0,0,0,0,0,0,0,0,0,0,0,0,0,0,0,0,0,0,0,0,0,0,0,0,0,0,0,0,0,0,0,0,0,0,0,0,0,0,0,0,0,0,0,0,0,0,0,0,0,0,0,0,0,0,0,0,0,0,0,0,0,0,0,0,0,0,0,0,0,0,0,0,0,0,0,0,0,0,0,0,0,0,0,0,0,0,0,0,0,0,0,0,0,0,0,0],\"fOption\":\"\",\"fFunctions\":{\"_typename\":\"TList\",\"name\":\"TList\",\"arr\":[{\"_typename\":\"TPaveStats\",\"fUniqueID\":0,\"fBits\":50331657,\"fLineColor\":1,\"fLineStyle\":1,\"fLineWidth\":1,\"fFillColor\":0,\"fFillStyle\":1001,\"fX1\":4.25000012665987,\"fY1\":0.300545749076393,\"fX2\":5.50000016391278,\"fY2\":0.371786221339189,\"fX1NDC\":0.780000016093254,\"fY1NDC\":0.775000005960464,\"fX2NDC\":0.980000019073486,\"fY2NDC\":0.935000002384186,\"fBorderSize\":1,\"fInit\":1,\"fShadowColor\":1,\"fCornerRadius\":0,\"fOption\":\"brNDC\",\"fName\":\"stats\",\"fTextAngle\":0,\"fTextSize\":0,\"fTextAlign\":12,\"fTextColor\":1,\"fTextFont\":42,\"fLabel\":\"\",\"fLongest\":18,\"fMargin\":0.05,\"fLines\":{\"_typename\":\"TList\",\"name\":\"TList\",\"arr\":[{\"_typename\":\"TLatex\",\"fUniqueID\":0,\"fBits\":50331648,\"fName\":\"\",\"fTitle\":\"h_areaAK4\",\"fTextAngle\":0,\"fTextSize\":0.0368,\"fTextAlign\":0,\"fTextColor\":0,\"fTextFont\":0,\"fX\":0,\"fY\":0,\"fLineColor\":1,\"fLineStyle\":1,\"fLineWidth\":2,\"fLimitFactorSize\":3,\"fOriginSize\":0.0368000008165836},{\"_typename\":\"TLatex\",\"fUniqueID\":0,\"fBits\":50331648,\"fName\":\"\",\"fTitle\":\"Entries = 0      \",\"fTextAngle\":0,\"fTextSize\":0,\"fTextAlign\":0,\"fTextColor\":0,\"fTextFont\":0,\"fX\":0,\"fY\":0,\"fLineColor\":1,\"fLineStyle\":1,\"fLineWidth\":2,\"fLimitFactorSize\":3,\"fOriginSize\":0.04},{\"_typename\":\"TLatex\",\"fUniqueID\":0,\"fBits\":50331648,\"fName\":\"\",\"fTitle\":\"Mean  =      0\",\"fTextAngle\":0,\"fTextSize\":0,\"fTextAlign\":0,\"fTextColor\":0,\"fTextFont\":0,\"fX\":0,\"fY\":0,\"fLineColor\":1,\"fLineStyle\":1,\"fLineWidth\":2,\"fLimitFactorSize\":3,\"fOriginSize\":0.04},{\"_typename\":\"TLatex\",\"fUniqueID\":0,\"fBits\":50331648,\"fName\":\"\",\"fTitle\":\"Std Dev   =      0\",\"fTextAngle\":0,\"fTextSize\":0,\"fTextAlign\":0,\"fTextColor\":0,\"fTextFont\":0,\"fX\":0,\"fY\":0,\"fLineColor\":1,\"fLineStyle\":1,\"fLineWidth\":2,\"fLimitFactorSize\":3,\"fOriginSize\":0.04}],\"opt\":[\"\",\"\",\"\",\"\"]},\"fOptFit\":0,\"fOptStat\":1111,\"fFitFormat\":\"5.4g\",\"fStatFormat\":\"6.4g\",\"fParent\":{\"_typename\":\"TH1F\",\"fUniqueID\":0,\"fBits\":50331648,\"fName\":\"h_areaAK4\",\"fTitle\":\"AK4 Jet Area\",\"fLineColor\":602,\"fLineStyle\":1,\"fLineWidth\":1,\"fFillColor\":0,\"fFillStyle\":1001,\"fMarkerColor\":1,\"fMarkerStyle\":1,\"fMarkerSize\":1,\"fNcells\":252,\"fXaxis\":{\"_typename\":\"TAxis\",\"fUniqueID\":0,\"fBits\":50331648,\"fName\":\"xaxis\",\"fTitle\":\"Area\",\"fNdivisions\":510,\"fAxisColor\":1,\"fLabelColor\":1,\"fLabelFont\":42,\"fLabelOffset\":0.005,\"fLabelSize\":0.035,\"fTickLength\":0.03,\"fTitleOffset\":1,\"fTitleSize\":0.035,\"fTitleColor\":1,\"fTitleFont\":42,\"fNbins\":250,\"fXmin\":0,\"fXmax\":5,\"fXbins\":[],\"fFirst\":0,\"fLast\":0,\"fBits2\":0,\"fTimeDisplay\":false,\"fTimeFormat\":\"\",\"fLabels\":null,\"fModLabs\":null},\"fYaxis\":{\"_typename\":\"TAxis\",\"fUniqueID\":0,\"fBits\":50331648,\"fName\":\"yaxis\",\"fTitle\":\"\",\"fNdivisions\":510,\"fAxisColor\":1,\"fLabelColor\":1,\"fLabelFont\":42,\"fLabelOffset\":0.005,\"fLabelSize\":0.035,\"fTickLength\":0.03,\"fTitleOffset\":0,\"fTitleSize\":0.035,\"fTitleColor\":1,\"fTitleFont\":42,\"fNbins\":1,\"fXmin\":0,\"fXmax\":1,\"fXbins\":[],\"fFirst\":0,\"fLast\":0,\"fBits2\":0,\"fTimeDisplay\":false,\"fTimeFormat\":\"\",\"fLabels\":null,\"fModLabs\":null},\"fZaxis\":{\"_typename\":\"TAxis\",\"fUniqueID\":0,\"fBits\":50331648,\"fName\":\"zaxis\",\"fTitle\":\"\",\"fNdivisions\":510,\"fAxisColor\":1,\"fLabelColor\":1,\"fLabelFont\":42,\"fLabelOffset\":0.005,\"fLabelSize\":0.035,\"fTickLength\":0.03,\"fTitleOffset\":1,\"fTitleSize\":0.035,\"fTitleColor\":1,\"fTitleFont\":42,\"fNbins\":1,\"fXmin\":0,\"fXmax\":1,\"fXbins\":[],\"fFirst\":0,\"fLast\":0,\"fBits2\":0,\"fTimeDisplay\":false,\"fTimeFormat\":\"\",\"fLabels\":null,\"fModLabs\":null},\"fBarOffset\":0,\"fBarWidth\":1000,\"fEntries\":33052,\"fTsumw\":33052,\"fTsumw2\":33052,\"fTsumwx\":16335.2945367098,\"fTsumwx2\":8127.23254475071,\"fMaximum\":-1111,\"fMinimum\":-1111,\"fNormFactor\":0,\"fContour\":[],\"fSumw2\":[0,0,0,0,0,0,0,0,0,0,0,9.15386181164124e-10,1.83077236232825e-9,5.49231708698474e-9,1.37307927174619e-8,1.73923374421183e-8,7.59770530366223e-8,1.41884858080439e-7,2.69123537262252e-7,4.13754553886184e-7,4.60439249125554e-7,5.12616261451909e-7,6.12393355198799e-7,1.26231754382533e-6,4.14212246976766e-6,8.98085382340122e-6,8.5680146556962e-6,3.56542917563426e-6,8.18355245960727e-7,1.76669532964676e-7,9.42847766599047e-8,4.94308537828626e-8,2.01384959856107e-8,1.92231098044466e-8,6.40770326814886e-9,1.09846341739695e-8,5.49231708698474e-9,2.74615854349237e-9,3.66154472465649e-9,2.74615854349237e-9,9.15386181164124e-10,0,0,0,0,0,0,0,0,0,0,0,0,0,0,0,0,0,0,0,0,0,0,0,0,0,0,0,0,0,0,0,0,0,0,0,0,0,0,0,0,0,0,0,0,0,0,0,0,0,0,0,0,0,0,0,0,0,0,0,0,0,0,0,0,0,0,0,0,0,0,0,0,0,0,0,0,0,0,0,0,0,0,0,0,0,0,0,0,0,0,0,0,0,0,0,0,0,0,0,0,0,0,0,0,0,0,0,0,0,0,0,0,0,0,0,0,0,0,0,0,0,0,0,0,0,0,0,0,0,0,0,0,0,0,0,0,0,0,0,0,0,0,0,0,0,0,0,0,0,0,0,0,0,0,0,0,0,0,0,0,0,0,0,0,0,0,0,0,0,0,0,0,0,0,0,0,0,0,0,0,0,0,0,0,0,0,0,0,0,0,0,0,0,0,0,0,0,0,0,0,0,0,0,0,0,0,0,0,0,0,0],\"fOption\":\"\",\"fFunctions\":{\"_typename\":\"TList\",\"name\":\"TList\",\"arr\":[{\"$ref\":8}],\"opt\":[\"brNDC\"]},\"fBufferSize\":0,\"fBuffer\":[],\"fBinStatErrOpt\":0,\"fArray\":[0,0,0,0,0,0,0,0,0,0,0,3.025535e-5,6.051071e-5,1.815321e-4,4.538303e-4,5.748518e-4,0.002511194,0.00468958,0.008895074,0.01367542,0.01521844,0.016943,0.02024083,0.04172213,0.1369055,0.2968353,0.2831901,0.1178446,0.02704829,0.005839284,0.003116301,0.001633789,6.656178e-4,6.353625e-4,2.117875e-4,3.630643e-4,1.815321e-4,9.076607e-5,1.210214e-4,9.076607e-5,3.025535e-5,0,0,0,0,0,0,0,0,0,0,0,0,0,0,0,0,0,0,0,0,0,0,0,0,0,0,0,0,0,0,0,0,0,0,0,0,0,0,0,0,0,0,0,0,0,0,0,0,0,0,0,0,0,0,0,0,0,0,0,0,0,0,0,0,0,0,0,0,0,0,0,0,0,0,0,0,0,0,0,0,0,0,0,0,0,0,0,0,0,0,0,0,0,0,0,0,0,0,0,0,0,0,0,0,0,0,0,0,0,0,0,0,0,0,0,0,0,0,0,0,0,0,0,0,0,0,0,0,0,0,0,0,0,0,0,0,0,0,0,0,0,0,0,0,0,0,0,0,0,0,0,0,0,0,0,0,0,0,0,0,0,0,0,0,0,0,0,0,0,0,0,0,0,0,0,0,0,0,0,0,0,0,0,0,0,0,0,0,0,0,0,0,0,0,0,0,0,0,0,0,0,0,0,0,0,0,0,0,0,0,0]}}],\"opt\":[\"brNDC\"]},\"fBufferSize\":0,\"fBuffer\":[],\"fBinStatErrOpt\":0,\"fArray\":[0,0,0,0,0,0,0,0,0,0,0,0,0,0,0,0,0,0,0,0,0,0,0,0,0,0,0,0,0,0,0,0,0,0,0,0,0,0,0,0,0,0,0,0,0,0,0,0,0,0,0,0,0,0,0,0,0,0,0,0,0,0,0,0,0,0,0,0,0,0,0,0,0,0,0,0,0,0,0,0,0,0,0,0,0,0,0,0,0,0,0,0,0,0,0,0,0,0,0,0,0,0,0,0,0,0,0,0,0,0,0,0,0,0,0,0,0,0,0,0,0,0,0,0,0,0,0,0,0,0,0,0,0,0,0,0,0,0,0,0,0,0,0,0,0,0,0,0,0,0,0,0,0,0,0,0,0,0,0,0,0,0,0,0,0,0,0,0,0,0,0,0,0,0,0,0,0,0,0,0,0,0,0,0,0,0,0,0,0,0,0,0,0,0,0,0,0,0,0,0,0,0,0,0,0,0,0,0,0,0,0,0,0,0,0,0,0,0,0,0,0,0,0,0,0,0,0,0,0,0,0,0,0,0,0,0,0,0,0,0,0,0,0,0,0,0,0,0,0,0,0,0]},{\"_typename\":\"TH1F\",\"fUniqueID\":0,\"fBits\":50331656,\"fName\":\"h_areaAK4\",\"fTitle\":\"AK4 Jet Area\",\"fLineColor\":602,\"fLineStyle\":1,\"fLineWidth\":1,\"fFillColor\":0,\"fFillStyle\":1001,\"fMarkerColor\":1,\"fMarkerStyle\":1,\"fMarkerSize\":1,\"fNcells\":252,\"fXaxis\":{\"_typename\":\"TAxis\",\"fUniqueID\":0,\"fBits\":50331648,\"fName\":\"xaxis\",\"fTitle\":\"Area\",\"fNdivisions\":510,\"fAxisColor\":1,\"fLabelColor\":1,\"fLabelFont\":42,\"fLabelOffset\":0.005,\"fLabelSize\":0.035,\"fTickLength\":0.03,\"fTitleOffset\":1,\"fTitleSize\":0.035,\"fTitleColor\":1,\"fTitleFont\":42,\"fNbins\":250,\"fXmin\":0,\"fXmax\":5,\"fXbins\":[],\"fFirst\":0,\"fLast\":0,\"fBits2\":0,\"fTimeDisplay\":false,\"fTimeFormat\":\"\",\"fLabels\":null,\"fModLabs\":null},\"fYaxis\":{\"_typename\":\"TAxis\",\"fUniqueID\":0,\"fBits\":50331648,\"fName\":\"yaxis\",\"fTitle\":\"\",\"fNdivisions\":510,\"fAxisColor\":1,\"fLabelColor\":1,\"fLabelFont\":42,\"fLabelOffset\":0.005,\"fLabelSize\":0.035,\"fTickLength\":0.03,\"fTitleOffset\":0,\"fTitleSize\":0.035,\"fTitleColor\":1,\"fTitleFont\":42,\"fNbins\":1,\"fXmin\":0,\"fXmax\":1,\"fXbins\":[],\"fFirst\":0,\"fLast\":0,\"fBits2\":0,\"fTimeDisplay\":false,\"fTimeFormat\":\"\",\"fLabels\":null,\"fModLabs\":null},\"fZaxis\":{\"_typename\":\"TAxis\",\"fUniqueID\":0,\"fBits\":50331648,\"fName\":\"zaxis\",\"fTitle\":\"\",\"fNdivisions\":510,\"fAxisColor\":1,\"fLabelColor\":1,\"fLabelFont\":42,\"fLabelOffset\":0.005,\"fLabelSize\":0.035,\"fTickLength\":0.03,\"fTitleOffset\":1,\"fTitleSize\":0.035,\"fTitleColor\":1,\"fTitleFont\":42,\"fNbins\":1,\"fXmin\":0,\"fXmax\":1,\"fXbins\":[],\"fFirst\":0,\"fLast\":0,\"fBits2\":0,\"fTimeDisplay\":false,\"fTimeFormat\":\"\",\"fLabels\":null,\"fModLabs\":null},\"fBarOffset\":0,\"fBarWidth\":1000,\"fEntries\":33052,\"fTsumw\":33052,\"fTsumw2\":33052,\"fTsumwx\":16335.2945367098,\"fTsumwx2\":8127.23254475071,\"fMaximum\":-1111,\"fMinimum\":-1111,\"fNormFactor\":0,\"fContour\":[],\"fSumw2\":[0,0,0,0,0,0,0,0,0,0,0,9.15386181164124e-10,1.83077236232825e-9,5.49231708698474e-9,1.37307927174619e-8,1.73923374421183e-8,7.59770530366223e-8,1.41884858080439e-7,2.69123537262252e-7,4.13754553886184e-7,4.60439249125554e-7,5.12616261451909e-7,6.12393355198799e-7,1.26231754382533e-6,4.14212246976766e-6,8.98085382340122e-6,8.5680146556962e-6,3.56542917563426e-6,8.18355245960727e-7,1.76669532964676e-7,9.42847766599047e-8,4.94308537828626e-8,2.01384959856107e-8,1.92231098044466e-8,6.40770326814886e-9,1.09846341739695e-8,5.49231708698474e-9,2.74615854349237e-9,3.66154472465649e-9,2.74615854349237e-9,9.15386181164124e-10,0,0,0,0,0,0,0,0,0,0,0,0,0,0,0,0,0,0,0,0,0,0,0,0,0,0,0,0,0,0,0,0,0,0,0,0,0,0,0,0,0,0,0,0,0,0,0,0,0,0,0,0,0,0,0,0,0,0,0,0,0,0,0,0,0,0,0,0,0,0,0,0,0,0,0,0,0,0,0,0,0,0,0,0,0,0,0,0,0,0,0,0,0,0,0,0,0,0,0,0,0,0,0,0,0,0,0,0,0,0,0,0,0,0,0,0,0,0,0,0,0,0,0,0,0,0,0,0,0,0,0,0,0,0,0,0,0,0,0,0,0,0,0,0,0,0,0,0,0,0,0,0,0,0,0,0,0,0,0,0,0,0,0,0,0,0,0,0,0,0,0,0,0,0,0,0,0,0,0,0,0,0,0,0,0,0,0,0,0,0,0,0,0,0,0,0,0,0,0,0,0,0,0,0,0,0,0,0,0,0,0],\"fOption\":\"\",\"fFunctions\":{\"_typename\":\"TList\",\"name\":\"TList\",\"arr\":[{\"_typename\":\"TPaveStats\",\"fUniqueID\":0,\"fBits\":50331657,\"fLineColor\":1,\"fLineStyle\":1,\"fLineWidth\":1,\"fFillColor\":0,\"fFillStyle\":1001,\"fX1\":4.25000012665987,\"fY1\":0.262977530441844,\"fX2\":5.50000016391278,\"fY2\":0.32531294367179,\"fX1NDC\":0.780000016093254,\"fY1NDC\":0.775000005960464,\"fX2NDC\":0.980000019073486,\"fY2NDC\":0.935000002384186,\"fBorderSize\":1,\"fInit\":1,\"fShadowColor\":1,\"fCornerRadius\":0,\"fOption\":\"brNDC\",\"fName\":\"stats\",\"fTextAngle\":0,\"fTextSize\":0,\"fTextAlign\":12,\"fTextColor\":1,\"fTextFont\":42,\"fLabel\":\"\",\"fLongest\":19,\"fMargin\":0.05,\"fLines\":{\"_typename\":\"TList\",\"name\":\"TList\",\"arr\":[{\"_typename\":\"TLatex\",\"fUniqueID\":0,\"fBits\":50331648,\"fName\":\"\",\"fTitle\":\"h_areaAK4\",\"fTextAngle\":0,\"fTextSize\":0.0368,\"fTextAlign\":0,\"fTextColor\":0,\"fTextFont\":0,\"fX\":0,\"fY\":0,\"fLineColor\":1,\"fLineStyle\":1,\"fLineWidth\":2,\"fLimitFactorSize\":3,\"fOriginSize\":0.0368000008165836},{\"_typename\":\"TLatex\",\"fUniqueID\":0,\"fBits\":50331648,\"fName\":\"\",\"fTitle\":\"Entries = 33052  \",\"fTextAngle\":0,\"fTextSize\":0,\"fTextAlign\":0,\"fTextColor\":0,\"fTextFont\":0,\"fX\":0,\"fY\":0,\"fLineColor\":1,\"fLineStyle\":1,\"fLineWidth\":2,\"fLimitFactorSize\":3,\"fOriginSize\":0.04},{\"_typename\":\"TLatex\",\"fUniqueID\":0,\"fBits\":50331648,\"fName\":\"\",\"fTitle\":\"Mean  = 0.4942\",\"fTextAngle\":0,\"fTextSize\":0,\"fTextAlign\":0,\"fTextColor\":0,\"fTextFont\":0,\"fX\":0,\"fY\":0,\"fLineColor\":1,\"fLineStyle\":1,\"fLineWidth\":2,\"fLimitFactorSize\":3,\"fOriginSize\":0.04},{\"_typename\":\"TLatex\",\"fUniqueID\":0,\"fBits\":50331648,\"fName\":\"\",\"fTitle\":\"Std Dev   = 0.04036\",\"fTextAngle\":0,\"fTextSize\":0,\"fTextAlign\":0,\"fTextColor\":0,\"fTextFont\":0,\"fX\":0,\"fY\":0,\"fLineColor\":1,\"fLineStyle\":1,\"fLineWidth\":2,\"fLimitFactorSize\":3,\"fOriginSize\":0.04}],\"opt\":[\"\",\"\",\"\",\"\"]},\"fOptFit\":0,\"fOptStat\":1111,\"fFitFormat\":\"5.4g\",\"fStatFormat\":\"6.4g\",\"fParent\":{\"$ref\":19}}],\"opt\":[\"brNDC\"]},\"fBufferSize\":0,\"fBuffer\":[],\"fBinStatErrOpt\":0,\"fArray\":[0,0,0,0,0,0,0,0,0,0,0,3.025535e-5,6.051071e-5,1.815321e-4,4.538303e-4,5.748518e-4,0.002511194,0.00468958,0.008895074,0.01367542,0.01521844,0.016943,0.02024083,0.04172213,0.1369055,0.2968353,0.2831901,0.1178446,0.02704829,0.005839284,0.003116301,0.001633789,6.656178e-4,6.353625e-4,2.117875e-4,3.630643e-4,1.815321e-4,9.076607e-5,1.210214e-4,9.076607e-5,3.025535e-5,0,0,0,0,0,0,0,0,0,0,0,0,0,0,0,0,0,0,0,0,0,0,0,0,0,0,0,0,0,0,0,0,0,0,0,0,0,0,0,0,0,0,0,0,0,0,0,0,0,0,0,0,0,0,0,0,0,0,0,0,0,0,0,0,0,0,0,0,0,0,0,0,0,0,0,0,0,0,0,0,0,0,0,0,0,0,0,0,0,0,0,0,0,0,0,0,0,0,0,0,0,0,0,0,0,0,0,0,0,0,0,0,0,0,0,0,0,0,0,0,0,0,0,0,0,0,0,0,0,0,0,0,0,0,0,0,0,0,0,0,0,0,0,0,0,0,0,0,0,0,0,0,0,0,0,0,0,0,0,0,0,0,0,0,0,0,0,0,0,0,0,0,0,0,0,0,0,0,0,0,0,0,0,0,0,0,0,0,0,0,0,0,0,0,0,0,0,0,0,0,0,0,0,0,0,0,0,0,0,0,0]},{\"_typename\":\"TH1F\",\"fUniqueID\":0,\"fBits\":50331656,\"fName\":\"h_areaAK8\",\"fTitle\":\"AK8 Jet Area\",\"fLineColor\":4,\"fLineStyle\":4,\"fLineWidth\":1,\"fFillColor\":0,\"fFillStyle\":1001,\"fMarkerColor\":1,\"fMarkerStyle\":1,\"fMarkerSize\":1,\"fNcells\":252,\"fXaxis\":{\"_typename\":\"TAxis\",\"fUniqueID\":0,\"fBits\":50331648,\"fName\":\"xaxis\",\"fTitle\":\"Area\",\"fNdivisions\":510,\"fAxisColor\":1,\"fLabelColor\":1,\"fLabelFont\":42,\"fLabelOffset\":0.005,\"fLabelSize\":0.035,\"fTickLength\":0.03,\"fTitleOffset\":1,\"fTitleSize\":0.035,\"fTitleColor\":1,\"fTitleFont\":42,\"fNbins\":250,\"fXmin\":0,\"fXmax\":5,\"fXbins\":[],\"fFirst\":0,\"fLast\":0,\"fBits2\":0,\"fTimeDisplay\":false,\"fTimeFormat\":\"\",\"fLabels\":null,\"fModLabs\":null},\"fYaxis\":{\"_typename\":\"TAxis\",\"fUniqueID\":0,\"fBits\":50331648,\"fName\":\"yaxis\",\"fTitle\":\"\",\"fNdivisions\":510,\"fAxisColor\":1,\"fLabelColor\":1,\"fLabelFont\":42,\"fLabelOffset\":0.005,\"fLabelSize\":0.035,\"fTickLength\":0.03,\"fTitleOffset\":0,\"fTitleSize\":0.035,\"fTitleColor\":1,\"fTitleFont\":42,\"fNbins\":1,\"fXmin\":0,\"fXmax\":1,\"fXbins\":[],\"fFirst\":0,\"fLast\":0,\"fBits2\":0,\"fTimeDisplay\":false,\"fTimeFormat\":\"\",\"fLabels\":null,\"fModLabs\":null},\"fZaxis\":{\"_typename\":\"TAxis\",\"fUniqueID\":0,\"fBits\":50331648,\"fName\":\"zaxis\",\"fTitle\":\"\",\"fNdivisions\":510,\"fAxisColor\":1,\"fLabelColor\":1,\"fLabelFont\":42,\"fLabelOffset\":0.005,\"fLabelSize\":0.035,\"fTickLength\":0.03,\"fTitleOffset\":1,\"fTitleSize\":0.035,\"fTitleColor\":1,\"fTitleFont\":42,\"fNbins\":1,\"fXmin\":0,\"fXmax\":1,\"fXbins\":[],\"fFirst\":0,\"fLast\":0,\"fBits2\":0,\"fTimeDisplay\":false,\"fTimeFormat\":\"\",\"fLabels\":null,\"fModLabs\":null},\"fBarOffset\":0,\"fBarWidth\":1000,\"fEntries\":19196,\"fTsumw\":19196,\"fTsumw2\":19196,\"fTsumwx\":38651.7122792006,\"fTsumwx2\":77911.2113662147,\"fMaximum\":-1111,\"fMinimum\":-1111,\"fNormFactor\":0,\"fContour\":[],\"fSumw2\":[0,0,0,0,0,0,0,0,0,0,0,0,0,0,0,0,0,0,0,0,0,0,0,0,0,0,0,0,0,0,0,0,0,0,0,0,0,0,0,0,0,0,0,0,0,0,0,0,0,0,0,0,0,0,0,0,0,0,0,0,0,0,0,0,0,0,0,0,0,0,2.71380529624647e-9,2.71380529624647e-9,0,2.71380529624647e-9,5.42761059249295e-9,2.71380529624647e-9,2.71380529624647e-9,8.14141588873942e-9,2.71380529624647e-9,1.08552211849859e-8,1.08552211849859e-8,1.62828317774788e-8,2.44242476662183e-8,1.35690264812324e-8,1.08552211849859e-8,4.61346900361901e-8,3.25656635549577e-8,2.98518582587112e-8,3.79932741474506e-8,6.78451324061619e-8,5.42761059249295e-8,7.87003535911478e-8,8.68417694798872e-8,7.32727429986548e-8,8.41279641836407e-8,1.30262654219831e-7,1.65542123071035e-7,4.64060705658147e-7,1.8101081325964e-6,5.05310546161094e-6,9.75341623470983e-6,1.34903261276412e-5,1.0933921538577e-5,5.70713253800634e-6,2.05435060925858e-6,5.6989911221176e-7,2.00821591922239e-7,1.08552211849859e-7,9.76969906648731e-8,6.24175218136689e-8,7.87003535911478e-8,4.61346900361901e-8,8.68417694798872e-8,5.42761059249295e-8,4.88484953324365e-8,4.34208847399436e-8,4.07070794436971e-8,4.34208847399436e-8,2.17104423699718e-8,4.88484953324365e-8,1.89966370737253e-8,2.98518582587112e-8,1.62828317774788e-8,1.08552211849859e-8,2.17104423699718e-8,1.89966370737253e-8,2.71380529624647e-8,2.17104423699718e-8,8.14141588873942e-9,8.14141588873942e-9,8.14141588873942e-9,1.35690264812324e-8,2.71380529624647e-9,8.14141588873942e-9,8.14141588873942e-9,2.71380529624647e-9,8.14141588873942e-9,5.42761059249295e-9,2.71380529624647e-9,0,0,2.71380529624647e-9,2.71380529624647e-9,8.14141588873942e-9,0,0,0,0,0,2.71380529624647e-9,2.71380529624647e-9,2.71380529624647e-9,0,0,0,0,2.71380529624647e-9,2.71380529624647e-9,2.71380529624647e-9,0,0,0,0,0,0,0,0,0,0,0,0,0,0,0,0,0,0,0,0,0,0,0,0,0,0,0,0,0,0,0,0,0,0,0,0,0,0,0,0,0,0,0,0,0,0,0,0,0,0,0,0,0,0,0,0,0,0,0,0,0,0,0,0,0,0,0,0,0,0,0,0,0,0,0,0,0,0,0,0,0,0,0,0,0,0,0,0,0,0,0,0,0],\"fOption\":\"\",\"fFunctions\":{\"_typename\":\"TList\",\"name\":\"TList\",\"arr\":[],\"opt\":[]},\"fBufferSize\":0,\"fBuffer\":[],\"fBinStatErrOpt\":0,\"fArray\":[0,0,0,0,0,0,0,0,0,0,0,0,0,0,0,0,0,0,0,0,0,0,0,0,0,0,0,0,0,0,0,0,0,0,0,0,0,0,0,0,0,0,0,0,0,0,0,0,0,0,0,0,0,0,0,0,0,0,0,0,0,0,0,0,0,0,0,0,0,0,5.209419e-5,5.209419e-5,0,5.209419e-5,1.041884e-4,5.209419e-5,5.209419e-5,1.562826e-4,5.209419e-5,2.083767e-4,2.083767e-4,3.125651e-4,4.688477e-4,2.604709e-4,2.083767e-4,8.856012e-4,6.251303e-4,5.73036e-4,7.293186e-4,0.001302355,0.001041884,0.001510731,0.001667014,0.001406543,0.00161492,0.002500521,0.003177745,0.008908106,0.03474682,0.09699938,0.1872265,0.2589602,0.2098875,0.1095541,0.0394353,0.01093978,0.00385497,0.002083767,0.001875391,0.001198166,0.001510731,8.856012e-4,0.001667014,0.001041884,9.376954e-4,8.33507e-4,7.814128e-4,8.33507e-4,4.167535e-4,9.376954e-4,3.646593e-4,5.73036e-4,3.125651e-4,2.083767e-4,4.167535e-4,3.646593e-4,5.209419e-4,4.167535e-4,1.562826e-4,1.562826e-4,1.562826e-4,2.604709e-4,5.209419e-5,1.562826e-4,1.562826e-4,5.209419e-5,1.562826e-4,1.041884e-4,5.209419e-5,0,0,5.209419e-5,5.209419e-5,1.562826e-4,0,0,0,0,0,5.209419e-5,5.209419e-5,5.209419e-5,0,0,0,0,5.209419e-5,5.209419e-5,5.209419e-5,0,0,0,0,0,0,0,0,0,0,0,0,0,0,0,0,0,0,0,0,0,0,0,0,0,0,0,0,0,0,0,0,0,0,0,0,0,0,0,0,0,0,0,0,0,0,0,0,0,0,0,0,0,0,0,0,0,0,0,0,0,0,0,0,0,0,0,0,0,0,0,0,0,0,0,0,0,0,0,0,0,0,0,0,0,0,0,0,0,0,0,0,0]},{\"_typename\":\"TLegend\",\"fUniqueID\":0,\"fBits\":50331656,\"fLineColor\":1,\"fLineStyle\":1,\"fLineWidth\":1,\"fFillColor\":0,\"fFillStyle\":1001,\"fX1\":3.12500000931323,\"fY1\":0.267151774302879,\"fX2\":4.37500002793968,\"fY2\":0.311677070462345,\"fX1NDC\":0.6,\"fY1NDC\":0.7,\"fX2NDC\":0.8,\"fY2NDC\":0.8,\"fBorderSize\":0,\"fInit\":1,\"fShadowColor\":1,\"fCornerRadius\":0,\"fOption\":\"brNDC\",\"fName\":\"TPave\",\"fTextAngle\":0,\"fTextSize\":0,\"fTextAlign\":12,\"fTextColor\":1,\"fTextFont\":42,\"fPrimitives\":{\"_typename\":\"TList\",\"name\":\"TList\",\"arr\":[{\"_typename\":\"TLegendEntry\",\"fUniqueID\":0,\"fBits\":50331656,\"fTextAngle\":0,\"fTextSize\":0,\"fTextAlign\":0,\"fTextColor\":0,\"fTextFont\":42,\"fLineColor\":602,\"fLineStyle\":1,\"fLineWidth\":1,\"fFillColor\":0,\"fFillStyle\":0,\"fMarkerColor\":1,\"fMarkerStyle\":21,\"fMarkerSize\":1,\"fObject\":{\"$ref\":19},\"fLabel\":\"AK4\",\"fOption\":\"l\"},{\"_typename\":\"TLegendEntry\",\"fUniqueID\":0,\"fBits\":50331656,\"fTextAngle\":0,\"fTextSize\":0,\"fTextAlign\":0,\"fTextColor\":0,\"fTextFont\":42,\"fLineColor\":4,\"fLineStyle\":4,\"fLineWidth\":1,\"fFillColor\":0,\"fFillStyle\":0,\"fMarkerColor\":1,\"fMarkerStyle\":21,\"fMarkerSize\":1,\"fObject\":{\"$ref\":30},\"fLabel\":\"AK8\",\"fOption\":\"l\"}],\"opt\":[\"l\",\"l\"]},\"fEntrySeparation\":0.1,\"fMargin\":0.25,\"fNColumns\":1,\"fColumnSeparation\":0},{\"_typename\":\"TLine\",\"fUniqueID\":0,\"fBits\":50331656,\"fLineColor\":920,\"fLineStyle\":2,\"fLineWidth\":2,\"fX1\":0.502654824574367,\"fY1\":0,\"fX2\":0.502654824574367,\"fY2\":0.356202363967896},{\"_typename\":\"TLine\",\"fUniqueID\":0,\"fBits\":50331656,\"fLineColor\":920,\"fLineStyle\":2,\"fLineWidth\":2,\"fX1\":2.01061929829747,\"fY1\":0,\"fX2\":2.01061929829747,\"fY2\":0.356202363967896}],\"opt\":[\"\",\"axis\",\"hist same\",\"hist same\",\"\",\"\",\"\"]},\"fExecs\":null,\"fName\":\"c\",\"fTitle\":\"c\",\"fNumPaletteColor\":0,\"fNextPaletteColor\":0,\"fDISPLAY\":\"$DISPLAY\",\"fDoubleBuffer\":0,\"fRetained\":true,\"fXsizeUser\":0,\"fYsizeUser\":0,\"fXsizeReal\":20,\"fYsizeReal\":14.28571,\"fWindowTopX\":0,\"fWindowTopY\":0,\"fWindowWidth\":0,\"fWindowHeight\":0,\"fCw\":696,\"fCh\":472,\"fCatt\":{\"_typename\":\"TAttCanvas\",\"fXBetween\":2,\"fYBetween\":2,\"fTitleFromTop\":1.2,\"fXdate\":0.2,\"fYdate\":0.3,\"fAdate\":1},\"kMoveOpaque\":true,\"kResizeOpaque\":true,\"fHighLightColor\":2,\"fBatch\":true,\"kShowEventStatus\":false,\"kAutoExec\":true,\"kMenuBar\":true});\n",
       "       Core.draw(\"root_plot_12\", obj, \"\");\n",
       "     }\n",
       " );\n",
       "</script>\n"
      ],
      "text/plain": [
       "<IPython.core.display.HTML object>"
      ]
     },
     "metadata": {},
     "output_type": "display_data"
    }
   ],
   "source": [
    "import math\n",
    "h_areaAK4   = f.Get(\"h_areaAK4\")\n",
    "h_areaAK8   = f.Get(\"h_areaAK8\")\n",
    "h_areaAK8.SetLineStyle(4)\n",
    "h_areaAK8.SetLineColor(4)\n",
    "\n",
    "h_areaAK4.Scale( 1.0 / h_areaAK4.Integral() )\n",
    "h_areaAK8.Scale( 1.0 / h_areaAK8.Integral() )\n",
    "\n",
    "c = ROOT.TCanvas('c', 'c')\n",
    "frame = h_areaAK4.Clone()\n",
    "frame.Reset()\n",
    "frame.SetTitle(\"Jet Areas\")\n",
    "frame.SetMaximum(h_areaAK4.GetMaximum() * 1.2)\n",
    "frame.Draw('axis')\n",
    "h_areaAK4.Draw('hist same')\n",
    "h_areaAK8.Draw(\"hist same\")\n",
    "\n",
    "l = ROOT.TLegend(0.6, 0.7, 0.8, 0.8)\n",
    "l.SetFillColor(0)\n",
    "l.SetBorderSize(0)\n",
    "l.AddEntry(h_areaAK4, \"AK4\", \"l\")\n",
    "l.AddEntry(h_areaAK8, \"AK8\", \"l\")\n",
    "l.Draw()\n",
    "\n",
    "line_ak4 = ROOT.TLine(math.pi * 0.4**2, 0., math.pi * 0.4**2, frame.GetMaximum())\n",
    "line_ak4.SetLineWidth(2)\n",
    "line_ak4.SetLineStyle(2)\n",
    "line_ak4.SetLineColor(ROOT.kGray)\n",
    "line_ak4.Draw()\n",
    "\n",
    "line_ak8 = ROOT.TLine(math.pi * 0.8**2, 0., math.pi * 0.8**2, frame.GetMaximum())\n",
    "line_ak8.SetLineWidth(2)\n",
    "line_ak8.SetLineStyle(2)\n",
    "line_ak8.SetLineColor(ROOT.kGray)\n",
    "line_ak8.Draw()\n",
    "\n",
    "c.Draw()"
   ]
  },
  {
   "cell_type": "markdown",
   "metadata": {},
   "source": [
    "Try modifying the above cell to add vertical lines at area values corresponding to $\\pi R^2$. Do the histogram peaks line up with these values?\n",
    "\n",
    "<details>\n",
    "<summary>\n",
    "    <font color='blue'>Show answer...</font>\n",
    "</summary>\n",
    "The area plot should look like this:\n",
    "\n",
    "<img src=\"files/jet_areas.png\" width=400px/>\n",
    "\n",
    "The histograms indeed peak at the expected value of $\\pi R^2$. \n",
    "</details>\n"
   ]
  },
  {
   "cell_type": "markdown",
   "metadata": {},
   "source": [
    "# Jet ID\n",
    "\n",
    "In order to avoid using fake jets, which can originate from a hot calorimeter cell or electronic read-out box, we need to require some basic quality criteria for jets. These criteria are collectively called \"jet ID\". Details on the jet ID for PFJets can be found in the following twiki:\n",
    "\n",
    "https://twiki.cern.ch/twiki/bin/viewauth/CMS/JetID\n",
    "\n",
    "The JetMET POG recommends the \"loose\" jet ID for most physics analysis in CMS. Some important observations from the above twiki:\n",
    "\n",
    "- Jet ID is defined for uncorrected jets only. Never apply jet ID on corrected jets. This means that in your analysis you should apply jet ID first, and then apply JECs on those jets that pass jet ID.\n",
    "- Loose jet Id is fully efficient (>99.9%) for real, high-$p_{\\mathrm{T}}$ jets used in most physics analysis. Its background rejection power is similarly high.\n",
    "\n",
    "## Applying Jet ID\n",
    "\n",
    "There are several ways to apply jet ID. In our above exercises, we have run the cuts \"on-the-fly\" in our python FWLite macro (the first option here). Others are listed for your convenience.\n",
    "\n",
    "The following examples use somewhat out of date numbers. See the above link to the JetID twiki for the current numbers.\n",
    "\n",
    "To apply the cuts on pat::Jet (like in miniAOD) in python then you can do : \n",
    "<details>\n",
    "<summary>\n",
    "    <font color='blue'>Show...</font>\n",
    "</summary>\n",
    "<code>\n",
    "# Apply jet ID to uncorrected jet\n",
    "nhf = jet.neutralHadronEnergy() / uncorrJet.E()\n",
    "nef = jet.neutralEmEnergy() / uncorrJet.E()\n",
    "chf = jet.chargedHadronEnergy() / uncorrJet.E()\n",
    "cef = jet.chargedEmEnergy() / uncorrJet.E()\n",
    "nconstituents = jet.numberOfDaughters()\n",
    "nch = jet.chargedMultiplicity()\n",
    "goodJet = \\\n",
    "  nhf < 0.99 and \\\n",
    "  nef < 0.99 and \\\n",
    "  chf > 0.00 and \\\n",
    "  cef < 0.99 and \\\n",
    "  nconstituents > 1 and \\\n",
    "  nch > 0\n",
    "</code>\n",
    "</details>\n",
    "\n",
    "To apply the cuts on pat::Jet (like in miniAOD) in C++ then you can do:\n",
    "<details>\n",
    "<summary>\n",
    "    <font color='blue'>Show...</font>\n",
    "</summary>\n",
    "<code>\n",
    "// Apply jet ID to uncorrected jet\n",
    "double nhf = jet.neutralHadronEnergy() / uncorrJet.E();\n",
    "double nef = jet.neutralEmEnergy() / uncorrJet.E();\n",
    "double chf = jet.chargedHadronEnergy() / uncorrJet.E();\n",
    "double cef = jet.chargedEmEnergy() / uncorrJet.E();\n",
    "int nconstituents = jet.numberOfDaughters();\n",
    "int nch = jet.chargedMultiplicity();\n",
    "bool goodJet = \n",
    "  nhf < 0.99 &&\n",
    "  nef < 0.99 &&\n",
    "  chf > 0.00 &&\n",
    "  cef < 0.99 &&\n",
    "  nconstituents > 1 &&\n",
    "  nch > 0;\n",
    "</code>\n",
    "</details>\n",
    "\n",
    "To create selected jets in cmsRun:\n",
    "<details>\n",
    "<summary>\n",
    "    <font color='blue'>Show...</font>\n",
    "</summary>\n",
    "<code>\n",
    "from PhysicsTools.SelectorUtils.pfJetIDSelector_cfi import pfJetIDSelector\n",
    "process.tightPatJetsPFlow = cms.EDFilter(\"PFJetIDSelectionFunctorFilter\",\n",
    "                                         filterParams = pfJetIDSelector.clone(quality=cms.string(\"TIGHT\")),\n",
    "                                         src = cms.InputTag(\"slimmedJets\")\n",
    "                                         )\n",
    "</code>\n",
    "</details>\n",
    "\n",
    "It is also possible to use the `PFJetIDSelectionFunctor` C++ selector (actually, either in C++ or python), but this was primarily developed in the days before PF when applying CaloJet ID was not possible very easily. Nevertheless, the functionality of more complicated selection still exists for PFJets, but is almost never used other than the few lines above. If you would still like to use that C++ class, it is documented as an example here.\n"
   ]
  },
  {
   "cell_type": "code",
   "execution_count": null,
   "metadata": {},
   "outputs": [],
   "source": []
  }
 ],
 "metadata": {
  "kernelspec": {
   "display_name": "Python 2",
   "language": "python",
   "name": "python2"
  },
  "language_info": {
   "codemirror_mode": {
    "name": "ipython",
    "version": 2
   },
   "file_extension": ".py",
   "mimetype": "text/x-python",
   "name": "python",
   "nbconvert_exporter": "python",
   "pygments_lexer": "ipython2",
   "version": "2.7.15"
  }
 },
 "nbformat": 4,
 "nbformat_minor": 2
}
