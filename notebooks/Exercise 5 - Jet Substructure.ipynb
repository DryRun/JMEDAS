{
 "cells": [
  {
   "cell_type": "markdown",
   "metadata": {},
   "source": [
    "# Jet Substructure\n",
    "Jet substructure is currently a very popular tool to analyze jets that are produced from heavy objects such as top quarks, Higgs bosons, W/Z bosons, or any beyond-Standard-Model hadronically-decaying objects.\n",
    "\n",
    "An excellent overview of jet substructure techniques can be found here:\n",
    "\n",
    "[Boosted objects: a probe of beyond the Standard Model physics](http://arxiv.org/abs/1012.5412) by Abdesselam et al.\n",
    "You will also be looking at several \"jet grooming\" algorithms, which attempt to reduce the impact of \"soft\" contributions to clustering sequence by adding some other criteria.You will be investigating three types of groomers :\n",
    "\n",
    "   * **Soft Drop**:\n",
    "      * Removes wide-angle, soft radiation from the jet.\n",
    "      * Procedure:\n",
    "         * Recluster the jet with the Cambridge-Aachen algorithm. \n",
    "         * Undo the last clustering step to form two subjets. \n",
    "         * Drop the lower $p_{\\mathrm{T}}$ subjet if the \"soft drop\" condition is not met:\n",
    "            * $\\frac{\\mathrm{min}(p_{\\mathrm{T}1}, p_{\\mathrm{T}2})}{p_{\\mathrm{T}1}+p_{\\mathrm{T}2}} > z_{\\mathrm{cut}} \\left(\\frac{\\Delta R_{12}}{R_0}\\right)^{\\beta}$\n",
    "         * Repeat with the higher-$p_{\\mathrm{T}}$ subjet until the soft drop condition is met.\n",
    "      * [Original paper](https://arxiv.org/abs/1402.2657).\n",
    "   * **Pruning**:\n",
    "      * Like soft drop, removes wide-angle, soft radiation from the jet.\n",
    "      * While reclustering the jet with the CA algorithm, discard softer particle when $\\Delta R>R_{\\mathrm{prune}}$ and min$(p_{\\mathrm{T}1}, p_{\\mathrm{2}T}) <\\epsilon_{\\mathrm{prune}}(p_{\\mathrm{T}1}+p_{\\mathrm{T}2}))$\n",
    "      * [Recombination Algorithms and Jet Substructure: Pruning as a Tool for Heavy Particle Searches](http://arxiv.org/abs/1303.4811)\n",
    "\n",
    "The following are older algorithms that are not often used anymore (not in MiniAOD, can be recomputer with the jet toolbox):\n",
    "   * **Trimming**:\n",
    "      * Reclusters jets with kT algorithm with a smaller R-parameter, throwing away soft contributions\n",
    "      * [Jet Trimming](http://arxiv.org/abs/0912.1342)\n",
    "   * **Filtering**:\n",
    "      * Clusters jet with Cambridge-Aachen algorithm with a smaller R-parameter, declusters until a large drop in subjet mass is found\n",
    "      * [Jet substructure as a new Higgs search channel at the LHC](http://arxiv.org/abs/arXiv:0802.2470)\n",
    "\n",
    "You will also be investigating several algorithms to identify (\"tag\") highly-boosted massive SM particles such as W, Z, H bosons and top quarks. These involve utilizing substructure and kinematic information of subjets to \"tag\" these particles.You will be investigating two types of identification algorithms (\"taggers\"):\n",
    "   * **CMS Top Tagger Algorithm**, based on the JHU Top Tagger Algorithm:\n",
    "      * Clusters jet with Cambridge-Aachen algorithm, declusters recursively until 3 or 4 hard subjets are found\n",
    "      * [Top-tagging: A Method for Identifying Boosted Hadronic Tops](http://arxiv.org/abs/arXiv:0806.0848)\n",
    "      * [A Cambridge-Aachen (C-A) based Jet Algorithm for boosted top-jet tagging](http://inspirehep.net/record/925377)\n",
    "   * **N-subjettiness**:\n",
    "      * Looks for the \"lumpiness\" (or in this case \"subjettiness\") of jets\n",
    "      * [Maximizing Boosted Top Identification by Minimizing N-subjettiness](http://arxiv.org/abs/arXiv:1108.2701).\n",
    "   * For further reading, several measurements have been performed about jet substructure:\n",
    "      * [Studies of jet mass in dijet and W/Z+jet events]](http://arxiv.org/abs/1303.4811) (CMS).\n",
    "      * [Jet mass and substructure of inclusive jets in sqrt(s) = 7 TeV pp collisions with the ATLAS experiment](http://arxiv.org/abs/1203.4606) (ATLAS).\n"
   ]
  },
  {
   "cell_type": "markdown",
   "metadata": {},
   "source": [
    "## Jet types and algorithms available in CMS\n",
    "\n",
    "   * [This twiki](https://twiki.cern.ch/twiki/bin/view/CMSPublic/SWGuideDataFormatRecoJets) summarizes the respective labels by which each jet collection can be retrieved from the event record for general AOD files.\n",
    "\n",
    "   * For the MINIAOD, there are three main jet collections as described [here](https://twiki.cern.ch/twiki/bin/view/CMSPublic/WorkBookMiniAOD2015#Analyzing_MiniAOD).\n",
    "      * slimmedJets :\n",
    "         * AK4 jets\n",
    "         * Using charged hadron subtraction\n",
    "         * b-tagging applied\n",
    "         * Jet corrections applied\n",
    "         * Pileup jet ID info embedded.\n",
    "         * Quark/gluon likelihood info embedded.\n",
    "      * slimmedJetsPUPPI :\n",
    "         * Also AK4 jets, but using PUPPI instead of charged hadron subtraction\n",
    "      * slimmedJetsAK8 :\n",
    "         * Several jet grooming techniques applied (modified mass drop tagging aka soft drop beta=0, filtering, pruning, trimming)\n",
    "         * CMS top tagging algorithm\n",
    "         * n-subjettiness algorithm\n",
    "         * Access to subjets (soft drop and CMS top tagger, respectively)\n",
    "\n",
    "Now, let's compare the jet masses for ungroomed, pruned, soft drop (SD), PUPPI, and SD+PUPPI: "
   ]
  },
  {
   "cell_type": "code",
   "execution_count": 14,
   "metadata": {},
   "outputs": [
    {
     "name": "stdout",
     "output_type": "stream",
     "text": [
      "Added root://cmsxrootd.fnal.gov//store/mc/RunIIFall17MiniAODv2/RSGluonToTT_M-3000_TuneCP5_13TeV-pythia8/MINIAODSIM/PU2017_12Apr2018_94X_mc2017_realistic_v14-v1/100000/F63F74AC-83B3-E811-ADA7-FA163E277177.root\n",
      "Added root://cmsxrootd.fnal.gov//store/mc/RunIIFall17MiniAODv2/RSGluonToTT_M-3000_TuneCP5_13TeV-pythia8/MINIAODSIM/PU2017_12Apr2018_94X_mc2017_realistic_v14-v1/100000/E642002E-75B2-E811-A031-FA163ECEEDC1.root\n",
      "Added root://cmsxrootd.fnal.gov//store/mc/RunIIFall17MiniAODv2/RSGluonToTT_M-3000_TuneCP5_13TeV-pythia8/MINIAODSIM/PU2017_12Apr2018_94X_mc2017_realistic_v14-v1/100000/E0AB2D2B-12B5-E811-8DBA-EC0D9A82260E.root\n",
      "Added root://cmsxrootd.fnal.gov//store/mc/RunIIFall17MiniAODv2/RSGluonToTT_M-3000_TuneCP5_13TeV-pythia8/MINIAODSIM/PU2017_12Apr2018_94X_mc2017_realistic_v14-v1/100000/C47E6912-D8C9-E811-A893-FA163E444CC8.root\n",
      "Added root://cmsxrootd.fnal.gov//store/mc/RunIIFall17MiniAODv2/RSGluonToTT_M-3000_TuneCP5_13TeV-pythia8/MINIAODSIM/PU2017_12Apr2018_94X_mc2017_realistic_v14-v1/100000/90F9D2DB-13B5-E811-B4AF-008CFAF5592A.root\n",
      "Added root://cmsxrootd.fnal.gov//store/mc/RunIIFall17MiniAODv2/RSGluonToTT_M-3000_TuneCP5_13TeV-pythia8/MINIAODSIM/PU2017_12Apr2018_94X_mc2017_realistic_v14-v1/100000/8EDC1A54-12B1-E811-A827-FA163EFD3E7C.root\n",
      "Added root://cmsxrootd.fnal.gov//store/mc/RunIIFall17MiniAODv2/RSGluonToTT_M-3000_TuneCP5_13TeV-pythia8/MINIAODSIM/PU2017_12Apr2018_94X_mc2017_realistic_v14-v1/100000/727ADE98-24B0-E811-B795-FA163E5CEAA8.root\n",
      "Added root://cmsxrootd.fnal.gov//store/mc/RunIIFall17MiniAODv2/RSGluonToTT_M-3000_TuneCP5_13TeV-pythia8/MINIAODSIM/PU2017_12Apr2018_94X_mc2017_realistic_v14-v1/100000/5A0FAD4B-12B5-E811-B5E4-FA163EC2D066.root\n",
      "Added root://cmsxrootd.fnal.gov//store/mc/RunIIFall17MiniAODv2/RSGluonToTT_M-3000_TuneCP5_13TeV-pythia8/MINIAODSIM/PU2017_12Apr2018_94X_mc2017_realistic_v14-v1/100000/386070E5-12B5-E811-8186-0CC47A78A426.root\n",
      "Processing file root://cmsxrootd.fnal.gov//store/mc/RunIIFall17MiniAODv2/RSGluonToTT_M-3000_TuneCP5_13TeV-pythia8/MINIAODSIM/PU2017_12Apr2018_94X_mc2017_realistic_v14-v1/100000/F63F74AC-83B3-E811-ADA7-FA163E277177.root\n",
      "    ---> Event 1000\n",
      "    ---> Event 2000\n",
      "Processing file root://cmsxrootd.fnal.gov//store/mc/RunIIFall17MiniAODv2/RSGluonToTT_M-3000_TuneCP5_13TeV-pythia8/MINIAODSIM/PU2017_12Apr2018_94X_mc2017_realistic_v14-v1/100000/E642002E-75B2-E811-A031-FA163ECEEDC1.root\n"
     ]
    }
   ],
   "source": [
    "%%bash\n",
    "python $CMSSW_BASE/src/Analysis/JMEDAS/scripts/jmedas_make_histograms.py --files=$CMSSW_BASE/src/Analysis/JMEDAS/data/MiniAODs/RunIIFall17MiniAODv2/rsgluon_ttbar_3000GeV.txt --outname=$CMSSW_BASE/src/Analysis/JMEDAS/notebooks/files/rsgluon_ttbar_3000GeV.root --maxevents=2000 --maxFiles 10 --maxjets=2 --correctJets Fall17_17Nov2017_V32_MC\n"
   ]
  },
  {
   "cell_type": "code",
   "execution_count": 18,
   "metadata": {},
   "outputs": [
    {
     "name": "stderr",
     "output_type": "stream",
     "text": [
      "Warning in <TCanvas::Constructor>: Deleting canvas with same name: c\n"
     ]
    },
    {
     "data": {
      "image/png": "[encoded data removed]",
      "text/plain": [
       "<IPython.core.display.Image object>"
      ]
     },
     "metadata": {},
     "output_type": "display_data"
    }
   ],
   "source": [
    "import ROOT\n",
    "ROOT.gStyle.SetOptStat(0)\n",
    "ROOT.gStyle.SetOptTitle(0)\n",
    "f = ROOT.TFile(\"$CMSSW_BASE/src/Analysis/JMEDAS/notebooks/files/rsgluon_ttbar_3000GeV.root\")\n",
    "\n",
    "h_mAK8   = f.Get(\"h_mAK8\")\n",
    "h_msoftdropAK8 = f.Get(\"h_msoftdropAK8\")\n",
    "h_mprunedAK8   = f.Get(\"h_mprunedAK8\")\n",
    "h_mpuppiAK8 = f.Get(\"h_mpuppiAK8\")\n",
    "h_mSDpuppiAK8 = f.Get(\"h_mSDpuppiAK8\")\n",
    "\n",
    "h_msoftdropAK8.SetLineColor(2)\n",
    "h_mprunedAK8.SetLineColor(4) \n",
    "h_msoftdropAK8.SetLineColor(2)\n",
    "h_mprunedAK8.SetLineStyle(3) \n",
    "h_mpuppiAK8.SetLineColor(ROOT.kGreen+3)\n",
    "h_mSDpuppiAK8.SetLineColor(ROOT.kOrange+3)\n",
    "\n",
    "leg = ROOT.TLegend(0.6, 0.6, 0.88, 0.88)\n",
    "leg.SetFillColor(0)\n",
    "leg.SetBorderSize(0)\n",
    "leg.AddEntry( h_mAK8, \"Ungroomed\", 'l')\n",
    "leg.AddEntry( h_msoftdropAK8, \"Soft Drop\", 'l')\n",
    "leg.AddEntry( h_mprunedAK8, \"Pruned\", 'l')\n",
    "leg.AddEntry( h_mpuppiAK8, \"PUPPI\", 'l')\n",
    "leg.AddEntry( h_mSDpuppiAK8, \"PUPPI+SD\", 'l')\n",
    "\n",
    "c = ROOT.TCanvas('c', 'c')\n",
    "h_mprunedAK8.SetMaximum(500)\n",
    "h_mprunedAK8.Draw()\n",
    "h_mprunedAK8.GetXaxis().SetRangeUser(0, 400)\n",
    "h_mprunedAK8.GetYaxis().SetRangeUser(0, 500)\n",
    "h_msoftdropAK8.Draw(\"same\") \n",
    "h_mAK8.Draw(\"same\") \n",
    "h_mpuppiAK8.Draw(\"same\")\n",
    "h_mSDpuppiAK8.Draw(\"same\")\n",
    "#h_mprunedAK8.SetMaximum(h_msoftdropAK8.GetMaximum()*1.2)\n",
    "\n",
    "leg.Draw()\n",
    "\n",
    "c.Draw()\n"
   ]
  },
  {
   "cell_type": "markdown",
   "metadata": {},
   "source": [
    "<details>\n",
    "<summary>\n",
    "    <font color='blue'>The histogram should look like this:</font>\n",
    "</summary>\n",
    "<img src=\"files/ex5_rsg_jetmass.png\" width=400px/>\n",
    "</details>\n",
    "Note that the histogram has two peaks. What do these correspond to? How do the algorithms affect the relative size of the two populations?"
   ]
  },
  {
   "cell_type": "markdown",
   "metadata": {},
   "source": [
    "## Tops vs. W bosons\n",
    "Now let's compare the soft drop mass distributions for two samples: SM $t\\bar{t}$ and the RSG with m=3 TeV. If you've already run over the $t\\bar{t}$ sample, you can skip the histogram-making step."
   ]
  },
  {
   "cell_type": "code",
   "execution_count": null,
   "metadata": {},
   "outputs": [],
   "source": [
    "%%bash\n",
    "python $CMSSW_BASE/src/Analysis/JMEDAS/scripts/jmedas_make_histograms.py --files=$CMSSW_BASE/src/Analysis/JMEDAS/data/MiniAODs/RunIIFall17MiniAODv2/ttjets.txt --outname=$CMSSW_BASE/src/Analysis/JMEDAS/notebooks/files/ttjets.root --maxevents=2000 --maxjets=6 --maxFiles 5\n"
   ]
  },
  {
   "cell_type": "code",
   "execution_count": 22,
   "metadata": {},
   "outputs": [
    {
     "name": "stderr",
     "output_type": "stream",
     "text": [
      "Warning in <TCanvas::Constructor>: Deleting canvas with same name: c\n"
     ]
    },
    {
     "data": {
      "image/png": "[encoded data removed]",
      "text/plain": [
       "<IPython.core.display.Image object>"
      ]
     },
     "metadata": {},
     "output_type": "display_data"
    }
   ],
   "source": [
    "f1 = ROOT.TFile(\"files/ttjets.root\")\n",
    "f2 = ROOT.TFile(\"files/rsgluon_ttbar_3000GeV.root\")\n",
    "\n",
    "h_msoftdropAK8_1 = f1.Get(\"h_msoftdropAK8\")\n",
    "h_msoftdropAK8_2 = f2.Get(\"h_msoftdropAK8\")\n",
    "\n",
    "h_msoftdropAK8_1.SetLineColor(1)\n",
    "h_msoftdropAK8_2.SetLineColor(2)\n",
    "\n",
    "leg = ROOT.TLegend(0.5, 0.5, 0.8, 0.8)\n",
    "leg.SetFillColor(0)\n",
    "leg.SetBorderSize(0)\n",
    "leg.AddEntry( h_msoftdropAK8_1, \"t#bar{t}\", 'l')\n",
    "leg.AddEntry( h_msoftdropAK8_2, \"RS KK Gluon\", 'l')\n",
    "\n",
    "h_msoftdropAK8_1.Sumw2()\n",
    "h_msoftdropAK8_1.Scale( 1.0 / h_msoftdropAK8_1.Integral() )\n",
    "h_msoftdropAK8_2.Sumw2()\n",
    "h_msoftdropAK8_2.Scale( 1.0 / h_msoftdropAK8_2.Integral() )\n",
    "\n",
    "c = ROOT.TCanvas('c', 'c') \n",
    "h_msoftdropAK8_1    .Draw(\"hist\")\n",
    "h_msoftdropAK8_2    .Draw(\"same hist\")\n",
    "h_mAK8.GetXaxis().SetRangeUser(0, 200)\n",
    "\n",
    "\n",
    "leg.Draw()\n",
    "\n",
    "c.Draw()\n"
   ]
  },
  {
   "cell_type": "markdown",
   "metadata": {},
   "source": [
    "Again, can you explain all of the peaks you see? Why is it that there are no boosted top quarks in the $t\\bar{t}$ sample, but there are in the RS KK gluon sample?\n"
   ]
  },
  {
   "cell_type": "markdown",
   "metadata": {},
   "source": [
    "## Subjet Mass\n",
    "We can also take a look inside the AK8 jets by reclustering the jet constituents as AK4 jets. For boosted top quarks, we can expect to see evidence of the $W$ boson and $b$ quark inside the jet; on the other hand, QCD jets will not have such structure. "
   ]
  },
  {
   "cell_type": "code",
   "execution_count": null,
   "metadata": {},
   "outputs": [],
   "source": [
    "f1 = ROOT.TFile(\"files/qcd_300to470.root\")\n",
    "f2 = ROOT.TFile(\"files/rsgluon_ttbar_3000GeV.root\")\n",
    "\n",
    "h_mSubjet0AK8_1 = f1.Get(\"h_mSubjet0AK8\")\n",
    "h_mSubjet0AK8_2 = f2.Get(\"h_mSubjet0AK8\")\n",
    "\n",
    "h_mSubjet0AK8_1.SetLineColor(1)\n",
    "h_mSubjet0AK8_2.SetLineColor(2)\n",
    "\n",
    "leg = ROOT.TLegend(0.5, 0.5, 0.8, 0.8)\n",
    "leg.SetFillColor(0)\n",
    "leg.SetBorderSize(0)\n",
    "leg.AddEntry(h_mSubjet0AK8_1, \"QCD\", 'l')\n",
    "leg.AddEntry(h_mSubjet0AK8_2, \"RSG#rightarrow t#bar{t}\", 'l')\n",
    "\n",
    "h_mSubjet0AK8_1.Sumw2()\n",
    "h_mSubjet0AK8_1.Scale( 1.0 / h_mSubjet0AK8_1.Integral() )\n",
    "h_mSubjet0AK8_2.Sumw2()\n",
    "h_mSubjet0AK8_2.Scale( 1.0 / h_mSubjet0AK8_2.Integral() )\n",
    "\n",
    "c = ROOT.TCanvas('c', 'c', 800, 600) \n",
    "h_mSubjet0AK8_1.Draw(\"hist\")\n",
    "h_mSubjet0AK8_2.Draw(\"same hist\")\n",
    "\n",
    "leg.Draw()\n",
    "c.Draw()\n",
    "\n",
    "h_mSubjet1AK8_1 = f1.Get(\"h_mSubjet1AK8\")\n",
    "h_mSubjet1AK8_2 = f2.Get(\"h_mSubjet1AK8\")\n",
    "\n",
    "h_mSubjet1AK8_1.SetLineColor(1)\n",
    "h_mSubjet1AK8_2.SetLineColor(2)\n",
    "\n",
    "leg2 = ROOT.TLegend(0.5, 0.5, 0.8, 0.8)\n",
    "leg2.SetFillColor(0)\n",
    "leg2.SetBorderSize(0)\n",
    "leg2.AddEntry( h_mSubjet1AK8_1, \"QCD\", 'l')\n",
    "leg2.AddEntry( h_mSubjet1AK8_2, \"RSG#rightarrow t#bar{t}\", 'l')\n",
    "\n",
    "h_mSubjet1AK8_1.Sumw2()\n",
    "h_mSubjet1AK8_1.Scale( 1.0 / h_mSubjet1AK8_1.Integral() )\n",
    "h_mSubjet1AK8_2.Sumw2()\n",
    "h_mSubjet1AK8_2.Scale( 1.0 / h_mSubjet1AK8_2.Integral() )\n",
    "\n",
    "c2 = ROOT.TCanvas('c2', 'c2') \n",
    "h_mSubjet1AK8_1.Draw(\"hist\")\n",
    "h_mSubjet1AK8_2.Draw(\"same hist\")\n",
    "\n",
    "leg2.Draw()\n",
    "\n",
    "c2.Draw()\n"
   ]
  },
  {
   "cell_type": "markdown",
   "metadata": {},
   "source": [
    "# $\\rho$ parameter\n",
    "A useful variable for massive, fat jets is the QCD scaling parameter $\\rho$, defined as:\n",
    "\n",
    "$\\rho=m^2/(p_{\\mathrm{T}}R)^2$.\n",
    "\n",
    "(Sometimes $\\rho$ is defined as the logarithm of this quantity). One useful feature of this variable is that QCD jet mass grows with $p_{\\mathrm{T}}$, i.e. the two quantities are strongly correlated, while $\\rho$ is much less correlated with $p_{\\mathrm{T}}$ (see [slides](http://www.hri.res.in/~sangam/sangam18/talks/Marzani-2.pdf)). \n"
   ]
  },
  {
   "cell_type": "code",
   "execution_count": null,
   "metadata": {},
   "outputs": [],
   "source": [
    "f1 = ROOT.TFile(\"files/ttjets.root\")\n",
    "f2 = ROOT.TFile(\"files/rsgluon_ttbar_3000GeV.root\")\n",
    "\n",
    "h_rhoRatioAK8_1 = f1.Get(\"h_rhoRatioAK8\")\n",
    "h_rhoRatioAK8_2 = f2.Get(\"h_rhoRatioAK8\")\n",
    "\n",
    "h_rhoRatioAK8_1.SetLineColor(1)\n",
    "h_rhoRatioAK8_2.SetLineColor(2)\n",
    "\n",
    "leg = ROOT.TLegend(0.3, 0.5, 0.5, 0.8)\n",
    "leg.SetFillColor(0)\n",
    "leg.SetBorderSize(0)\n",
    "leg.AddEntry( h_rhoRatioAK8_1, \"t#bar{t}\", 'l')\n",
    "leg.AddEntry( h_rhoRatioAK8_2, \"RS KK Gluon\", 'l')\n",
    "\n",
    "h_rhoRatioAK8_1.Sumw2()\n",
    "h_rhoRatioAK8_1.Scale( 1.0 / h_rhoRatioAK8_1.Integral() )\n",
    "h_rhoRatioAK8_2.Sumw2()\n",
    "h_rhoRatioAK8_2.Scale( 1.0 / h_rhoRatioAK8_2.Integral() )\n",
    "\n",
    "c = ROOT.TCanvas('c', 'c') \n",
    "h_rhoRatioAK8_1.Draw(\"hist\")\n",
    "h_rhoRatioAK8_2.Draw(\"same hist\")\n",
    "\n",
    "leg.Draw()\n",
    "\n",
    "c.Draw()\n",
    "\n"
   ]
  },
  {
   "cell_type": "code",
   "execution_count": null,
   "metadata": {},
   "outputs": [],
   "source": []
  }
 ],
 "metadata": {
  "kernelspec": {
   "display_name": "hats-jec",
   "language": "python",
   "name": "hats-jec"
  },
  "language_info": {
   "codemirror_mode": {
    "name": "ipython",
    "version": 2
   },
   "file_extension": ".py",
   "mimetype": "text/x-python",
   "name": "python",
   "nbconvert_exporter": "python",
   "pygments_lexer": "ipython2",
   "version": "2.7.11"
  }
 },
 "nbformat": 4,
 "nbformat_minor": 2
}
