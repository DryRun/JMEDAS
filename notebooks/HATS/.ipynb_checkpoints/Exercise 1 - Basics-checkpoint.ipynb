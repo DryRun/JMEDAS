{
 "cells": [
  {
   "cell_type": "markdown",
   "metadata": {},
   "source": [
    "# Basics\n",
    "\n",
    "Welcome to the jets short exercise! You should have already run the setup-libraries.ipynb notebook to setup your environment. Run the following code to start this session:"
   ]
  },
  {
   "cell_type": "code",
   "execution_count": 1,
   "metadata": {},
   "outputs": [
    {
     "name": "stdout",
     "output_type": "stream",
     "text": [
      "Welcome to JupyROOT 6.14/09\n"
     ]
    }
   ],
   "source": [
    "import os\n",
    "import sys\n",
    "\n",
    "# Loads the ROOT environment and style\n",
    "import ROOT\n",
    "from collections import OrderedDict\n",
    "\n",
    "# Imports for running with CMSSW\n",
    "#from Analysis.JMEDAS.tdrstyle_mod14 import *\n",
    "#from tqdm import tqdm_notebook\n",
    "\n",
    "# Imports for running locally\n",
    "sys.path.append(os.path.expandvars(\"$CMSSW_BASE/src/Analysis/JMEDAS/python\"))\n",
    "#from tdrstyle_mod14 import *\n",
    "#from tqdm import tqdm_notebook\n",
    "\n",
    "#from ipywidgets import FloatProgress\n",
    "#from IPython.display import display\n",
    "\n",
    "# Set the ROOT style\n",
    "#setTDRStyle()"
   ]
  },
  {
   "cell_type": "markdown",
   "metadata": {},
   "source": [
    "# Jet Basics\n",
    "\n",
    "This preliminary exercise will illustrate some of the basic properties of jets in CMS. Let's start by running the histogram-making code on some $t\\bar{t}$ MC. While the script is running, take a look at the script and make sure you understand what it's doing."
   ]
  },
  {
   "cell_type": "code",
   "execution_count": 4,
   "metadata": {},
   "outputs": [
    {
     "name": "stdout",
     "output_type": "stream",
     "text": [
      "Added root://cmsxrootd.fnal.gov//store/mc/RunIIFall17MiniAODv2/TTJets_TuneCP5_13TeV-madgraphMLM-pythia8/MINIAODSIM/PU2017_12Apr2018_94X_mc2017_realistic_v14-v1/20000/EA397089-9260-E811-8C95-4C79BA3201D5.root\n",
      "Added root://cmsxrootd.fnal.gov//store/mc/RunIIFall17MiniAODv2/TTJets_TuneCP5_13TeV-madgraphMLM-pythia8/MINIAODSIM/PU2017_12Apr2018_94X_mc2017_realistic_v14-v1/70000/BC2CF28A-E286-E811-A7C3-0CC47A7FC6F8.root\n",
      "Added root://cmsxrootd.fnal.gov//store/mc/RunIIFall17MiniAODv2/TTJets_TuneCP5_13TeV-madgraphMLM-pythia8/MINIAODSIM/PU2017_12Apr2018_94X_mc2017_realistic_v14-v1/70000/6ED8EEC0-EB88-E811-97DD-FA163E933851.root\n",
      "Added root://cmsxrootd.fnal.gov//store/mc/RunIIFall17MiniAODv2/TTJets_TuneCP5_13TeV-madgraphMLM-pythia8/MINIAODSIM/PU2017_12Apr2018_94X_mc2017_realistic_v14-v1/20000/DCFEEE83-AD65-E811-B55A-24BE05CEEB81.root\n",
      "Added root://cmsxrootd.fnal.gov//store/mc/RunIIFall17MiniAODv2/TTJets_TuneCP5_13TeV-madgraphMLM-pythia8/MINIAODSIM/PU2017_12Apr2018_94X_mc2017_realistic_v14-v1/70000/268FA5F8-0F8A-E811-BDC1-FA163E03D9B0.root\n",
      "Processing file root://cmsxrootd.fnal.gov//store/mc/RunIIFall17MiniAODv2/TTJets_TuneCP5_13TeV-madgraphMLM-pythia8/MINIAODSIM/PU2017_12Apr2018_94X_mc2017_realistic_v14-v1/20000/EA397089-9260-E811-8C95-4C79BA3201D5.root\n"
     ]
    },
    {
     "name": "stderr",
     "output_type": "stream",
     "text": [
      "Error in <TNetXNGFile::Open>: [FATAL] Redirect limit has been reached\n",
      "\n",
      " *** Break *** segmentation violation\n",
      "Traceback (most recent call last):\n",
      "  File \"/home/cms.dryu/CMSSW_10_6_6/src/Analysis/JMEDAS/scripts/jmedas_make_histograms.py\", line 363, in <module>\n",
      "    for event in events:\n",
      "  File \"/cvmfs/cms.cern.ch/slc7_amd64_gcc820/cms/cmssw/CMSSW_10_6_6/python/DataFormats/FWLite/__init__.py\", line 664, in _next\n",
      "    self._createFWLiteEvent()\n",
      "  File \"/cvmfs/cms.cern.ch/slc7_amd64_gcc820/cms/cmssw/CMSSW_10_6_6/python/DataFormats/FWLite/__init__.py\", line 656, in _createFWLiteEvent\n",
      "    self._event = ROOT.fwlite.ChainEvent (filenamesSVec)\n",
      "TypeError: none of the 2 overloaded methods succeeded. Full details:\n",
      "  fwlite::ChainEvent::fwlite::ChainEvent(const vector<string>& iFileNames) =>\n",
      "    problem in C++; program state has been reset\n",
      "  fwlite::ChainEvent::fwlite::ChainEvent(const fwlite::ChainEvent&) =>\n",
      "    could not convert argument 1\n"
     ]
    }
   ],
   "source": [
    "%%bash\n",
    "python $CMSSW_BASE/src/Analysis/JMEDAS/scripts/jmedas_make_histograms.py --files=$CMSSW_BASE/src/Analysis/JMEDAS/data/MiniAODs/RunIIFall17MiniAODv2/ttjets.txt --outname=$CMSSW_BASE/src/Analysis/JMEDAS/notebooks/files/ttjets.root --maxevents=2000 --maxjets=6 --maxFiles 5\n"
   ]
  },
  {
   "cell_type": "markdown",
   "metadata": {},
   "source": [
    "Now let's plot the resulting histograms:"
   ]
  },
  {
   "cell_type": "code",
   "execution_count": 3,
   "metadata": {},
   "outputs": [
    {
     "ename": "ReferenceError",
     "evalue": "attempt to access a null-pointer",
     "output_type": "error",
     "traceback": [
      "\u001b[0;31m\u001b[0m",
      "\u001b[0;31mReferenceError\u001b[0mTraceback (most recent call last)",
      "\u001b[0;32m<ipython-input-3-8091369447ba>\u001b[0m in \u001b[0;36m<module>\u001b[0;34m()\u001b[0m\n\u001b[1;32m     11\u001b[0m \u001b[0mc\u001b[0m\u001b[0;34m.\u001b[0m\u001b[0mcd\u001b[0m\u001b[0;34m(\u001b[0m\u001b[0;36m1\u001b[0m\u001b[0;34m)\u001b[0m\u001b[0;34m\u001b[0m\u001b[0m\n\u001b[1;32m     12\u001b[0m \u001b[0mROOT\u001b[0m\u001b[0;34m.\u001b[0m\u001b[0mgPad\u001b[0m\u001b[0;34m.\u001b[0m\u001b[0mSetLogy\u001b[0m\u001b[0;34m(\u001b[0m\u001b[0;34m)\u001b[0m\u001b[0;34m\u001b[0m\u001b[0m\n\u001b[0;32m---> 13\u001b[0;31m \u001b[0mh_ptAK4\u001b[0m\u001b[0;34m.\u001b[0m\u001b[0mDraw\u001b[0m\u001b[0;34m(\u001b[0m\u001b[0;34m)\u001b[0m\u001b[0;34m\u001b[0m\u001b[0m\n\u001b[0m\u001b[1;32m     14\u001b[0m \u001b[0mh_ptAK4\u001b[0m\u001b[0;34m.\u001b[0m\u001b[0mGetXaxis\u001b[0m\u001b[0;34m(\u001b[0m\u001b[0;34m)\u001b[0m\u001b[0;34m.\u001b[0m\u001b[0mSetRangeUser\u001b[0m\u001b[0;34m(\u001b[0m\u001b[0;36m0\u001b[0m\u001b[0;34m,\u001b[0m \u001b[0;36m1000\u001b[0m\u001b[0;34m)\u001b[0m\u001b[0;34m\u001b[0m\u001b[0m\n\u001b[1;32m     15\u001b[0m \u001b[0mc\u001b[0m\u001b[0;34m.\u001b[0m\u001b[0mcd\u001b[0m\u001b[0;34m(\u001b[0m\u001b[0;36m2\u001b[0m\u001b[0;34m)\u001b[0m\u001b[0;34m\u001b[0m\u001b[0m\n",
      "\u001b[0;31mReferenceError\u001b[0m: attempt to access a null-pointer"
     ]
    },
    {
     "name": "stderr",
     "output_type": "stream",
     "text": [
      "Error in <TFile::TFile>: file files/ttjets.root does not exist\n"
     ]
    }
   ],
   "source": [
    "f = ROOT.TFile(\"$CMSSW_BASE/src/Analysis/JMEDAS/notesbooks/files/ttjets.root\")\n",
    "\n",
    "h_ptAK4   = f.Get(\"h_ptAK4\")\n",
    "h_etaAK4  = f.Get(\"h_etaAK4\")\n",
    "h_phiAK4  = f.Get(\"h_phiAK4\")\n",
    "h_mAK4    = f.Get(\"h_mAK4\")\n",
    "\n",
    "c = ROOT.TCanvas('c', 'c', 800, 600)\n",
    "\n",
    "c.Divide(2,2)\n",
    "c.cd(1)\n",
    "ROOT.gPad.SetLogy()\n",
    "h_ptAK4.Draw()\n",
    "h_ptAK4.GetXaxis().SetRangeUser(0, 1000)\n",
    "c.cd(2)\n",
    "h_etaAK4.Draw()\n",
    "c.cd(3)\n",
    "h_phiAK4.Draw()\n",
    "h_phiAK4.SetMinimum(0)\n",
    "c.cd(4)\n",
    "ROOT.gPad.SetLogy()\n",
    "h_mAK4.Draw()\n",
    "h_mAK4.GetXaxis().SetRangeUser(0, 200)\n",
    "ROOT.gPad.SetLogy()\n",
    "\n",
    "ROOT.enableJSVis()\n",
    "c.Draw()\n",
    "#c.Print('plots1.png', 'png')\n",
    "#c.Print('plots1.pdf', 'pdf')\n"
   ]
  },
  {
   "cell_type": "markdown",
   "metadata": {},
   "source": [
    "Your histograms from step 4 above should look similar to the four plots shown below. What about AK8 jets? Add the corresponding histograms to the same canvases, they are already filled and available (draw option 'same', line color 'ROOT.kRed'). "
   ]
  },
  {
   "cell_type": "markdown",
   "metadata": {},
   "source": [
    "![Basic jet kinematics](files/plots1.png)"
   ]
  },
  {
   "cell_type": "code",
   "execution_count": null,
   "metadata": {},
   "outputs": [],
   "source": []
  }
 ],
 "metadata": {
  "kernelspec": {
   "display_name": "hats-jec",
   "language": "python",
   "name": "hats-jec"
  },
  "language_info": {
   "codemirror_mode": {
    "name": "ipython",
    "version": 2
   },
   "file_extension": ".py",
   "mimetype": "text/x-python",
   "name": "python",
   "nbconvert_exporter": "python",
   "pygments_lexer": "ipython2",
   "version": "2.7.15+"
  }
 },
 "nbformat": 4,
 "nbformat_minor": 2
}
