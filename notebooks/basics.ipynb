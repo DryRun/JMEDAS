{
 "cells": [
  {
   "cell_type": "code",
   "execution_count": 3,
   "metadata": {},
   "outputs": [],
   "source": [
    "# Loads the ROOT environment and style\n",
    "import ROOT\n",
    "from collections import OrderedDict\n",
    "\n",
    "# Imports for running with CMSSW\n",
    "#from Analysis.JMEDAS.tdrstyle_mod14 import *\n",
    "#from tqdm import tqdm_notebook\n",
    "\n",
    "# Imports for running locally\n",
    "import sys\n",
    "sys.path.append(\"/Users/dryu/Documents/Physics/CMS/DAS/Jets2019/CMSSW_8_0_25/src/Analysis/JMEDAS/python\")\n",
    "from tdrstyle_mod14 import *\n",
    "#from tqdm import tqdm_notebook\n",
    "\n",
    "#from ipywidgets import FloatProgress\n",
    "#from IPython.display import display\n",
    "\n",
    "# Set the ROOT style\n",
    "#r.gROOT.Macro(\"rootlogon.C\")\n",
    "setTDRStyle()"
   ]
  },
  {
   "cell_type": "markdown",
   "metadata": {},
   "source": [
    "# Jet Basics\n",
    "\n",
    "This preliminary exercise will illustrate some of the basic properties of jets in CMS. Before starting, you should run the histogram making code:\n",
    "\n",
    "`python jmedas_fwlite.py --files=../data/ttjets_80X_Summer16.txt --outname=ttjets_short.root --maxevents=2000 --maxjets=2`\n",
    "\n",
    "Let's jump right into some plots:"
   ]
  },
  {
   "cell_type": "code",
   "execution_count": 4,
   "metadata": {},
   "outputs": [
    {
     "ename": "NameError",
     "evalue": "name 'gPad' is not defined",
     "output_type": "error",
     "traceback": [
      "\u001b[0;31m\u001b[0m",
      "\u001b[0;31mNameError\u001b[0mTraceback (most recent call last)",
      "\u001b[0;32m/Applications/root/lib/libPyROOT.so\u001b[0m in \u001b[0;36m<module>\u001b[0;34m()\u001b[0m\n",
      "\u001b[0;31mNameError\u001b[0m: name 'gPad' is not defined"
     ]
    },
    {
     "name": "stderr",
     "output_type": "stream",
     "text": [
      "Error in <TFile::TFile>: file qcd_short.root does not exist\n"
     ]
    }
   ],
   "source": [
    "f = ROOT.TFile(\"qcd_short.root\")\n",
    "\n",
    "h_ptAK4   = f.Get(\"h_ptAK4\")\n",
    "h_etaAK4  = f.Get(\"h_etaAK4\")\n",
    "h_phiAK4  = f.Get(\"h_phiAK4\")\n",
    "h_mAK4    = f.Get(\"h_mAK4\")\n",
    "\n",
    "c = ROOT.TCanvas('c', 'c', 600, 800)\n",
    "\n",
    "c.Divide(2,2)\n",
    "c.cd(1)\n",
    "gPad.SetLogy()\n",
    "h_ptAK4.Draw()\n",
    "h_ptAK4.GetXaxis().SetRangeUser(0, 1000)\n",
    "c.cd(2)\n",
    "h_etaAK4.Draw()\n",
    "c.cd(3)\n",
    "h_phiAK4.Draw()\n",
    "h_phiAK4.SetMinimum(0)\n",
    "c.cd(4)\n",
    "h_mAK4.Draw()\n",
    "h_mAK4.GetXaxis().SetRangeUser(0, 200)\n",
    "gPad.SetLogy()\n",
    "\n",
    "ROOT.enableJSVis()\n",
    "c.Draw()\n",
    "#c.Print('plots1.png', 'png')\n",
    "#c.Print('plots1.pdf', 'pdf')\n"
   ]
  },
  {
   "cell_type": "markdown",
   "metadata": {},
   "source": [
    "## Quiz 1 : Example plots\n",
    "Your histograms from step 4 above should look similar to the four plots shown below."
   ]
  },
  {
   "cell_type": "markdown",
   "metadata": {},
   "source": [
    "![Basic jet kinematics](files/plots1.png)"
   ]
  },
  {
   "cell_type": "code",
   "execution_count": null,
   "metadata": {},
   "outputs": [],
   "source": []
  }
 ],
 "metadata": {
  "kernelspec": {
   "display_name": "Python 2",
   "language": "python",
   "name": "python2"
  },
  "language_info": {
   "codemirror_mode": {
    "name": "ipython",
    "version": 2
   },
   "file_extension": ".py",
   "mimetype": "text/x-python",
   "name": "python",
   "nbconvert_exporter": "python",
   "pygments_lexer": "ipython2",
   "version": "2.7.15"
  }
 },
 "nbformat": 4,
 "nbformat_minor": 2
}
