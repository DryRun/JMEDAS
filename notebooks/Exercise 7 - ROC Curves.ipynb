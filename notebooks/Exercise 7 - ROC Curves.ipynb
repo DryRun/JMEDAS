{
 "cells": [
  {
   "cell_type": "markdown",
   "metadata": {},
   "source": [
    "# Measuring Performance\n",
    "\n",
    "You have learned about the efficiency of the CMS recommended top tagging algorithm. But how did we decide on those variables and those specific cuts? To measure performance of different algorithms, we use the \"Receiver-Operator Characteristic\" curve (ROC curve). The ROC curve shows background efficiency as a function of signal efficiency. Better-performing algorithms will have higher signal efficiency for the same background efficency, or lower background efficiency for the same signal efficiency. These can be plotted several different ways, sometimes using background rejection (1 - efficiency) instead of background efficiency.\n",
    "\n",
    "You can produce ROOT files for various signal and background samples to study this:\n",
    "\n",
    "Use the following commands to run over an RS KK gluon sample and a QCD sample: "
   ]
  },
  {
   "cell_type": "code",
   "execution_count": null,
   "metadata": {},
   "outputs": [],
   "source": [
    "%%bash\n",
    "python $CMSSW_BASE/src/Analysis/JMEDAS/scripts/jmedas_make_histograms.py --files=$CMSSW_BASE/src/Analysis/JMEDAS/data/MiniAODs/RunIIFall17MiniAODv2/QCD_Pt_300to470.txt --outname=$CMSSW_BASE/src/Analysis/JMEDAS/notebooks/files/qcd.root --maxevents=2000 --maxjets=6\n",
    "python $CMSSW_BASE/src/Analysis/JMEDAS/scripts/jmedas_make_histograms.py --files=$CMSSW_BASE/src/Analysis/JMEDAS/data/MiniAODs/RunIIFall17MiniAODv2/rsgluon_ttbar_3000GeV.txt --outname=$CMSSW_BASE/src/Analysis/JMEDAS/notebooks/files/rsgluon_ttbar_3TeV.root --maxevents=2000 --maxjets=6"
   ]
  },
  {
   "cell_type": "markdown",
   "metadata": {},
   "source": [
    "In this exercise you will make a simple ROC curve and examine performance of different variables. If you look in one of the ROOT files we have produced earlier, you will see there is a TTree with the name varTree. This tree contains several different variables we can use to measure performance:\n",
    "```\n",
    "ak8pt\n",
    "ak8eta\n",
    "ak8phi\n",
    "ak8PUPPIpt\n",
    "ak8PUPPIeta\n",
    "ak8PUPPIphi\n",
    "ak8mass\n",
    "ak8csv\n",
    "ak8CHSSDmass\n",
    "ak8PUPPImass\n",
    "ak8PUPPISDmass\n",
    "ak8tau32\n",
    "ak8tau21\n",
    "ak8SD_sub0_mass\n",
    "ak8SD_sub1_mass\n",
    "ak8SD_sub0_csv\n",
    "ak8SD_sub1_csv\n",
    "ak8_N2_beta1\n",
    "ak8_N2_beta2\n",
    "ak8_N3_beta1\n",
    "ak8_N3_beta2\n",
    "npv\n",
    "```\n",
    "\n",
    "First, we will plot a ROC curve for a single variable: the (ungroomed) AK8 jet mass. There is a simple script to scan over this variable's distribution, choosing sets of cuts. For each set of cuts, the signal efficiency and background efficiency is calculated, and the point is added to the ROC curve.\n",
    "\n",
    "To run the script, you give the variables to use as arguments. For this first run, simply do: "
   ]
  },
  {
   "cell_type": "code",
   "execution_count": null,
   "metadata": {},
   "outputs": [],
   "source": [
    "from Analysis.JMEDAS.computeROC import computeROC\n",
    "c1 = computeROC([\"ak8mass\"])"
   ]
  },
  {
   "cell_type": "markdown",
   "metadata": {},
   "source": [
    "You can see if there is a gain in performance by adding additional variables. The method (TMVA) then scans sets of cuts simultaneously applied to both distributions to produce the ROC curve. "
   ]
  },
  {
   "cell_type": "code",
   "execution_count": null,
   "metadata": {},
   "outputs": [],
   "source": [
    "c1 = computeROC([\"ak8mass\",\"ak8tau32\"])"
   ]
  },
  {
   "cell_type": "markdown",
   "metadata": {},
   "source": [
    "Does adding the additional variable improve the performance? In all cases?\n",
    "\n",
    "What about studying additional variables -- does the PUPPI or soft-drop mass give an improvement? You can add additional variables to the varTree by modifying jmedas_make_histograms.py, but will need to re-make the ROOT files as instructed above.\n",
    "\n",
    "Try comparing different sets of variables to see how much you can improve the top-tagging performance! "
   ]
  },
  {
   "cell_type": "code",
   "execution_count": null,
   "metadata": {},
   "outputs": [],
   "source": []
  }
 ],
 "metadata": {
  "kernelspec": {
   "display_name": "hats-jec",
   "language": "python",
   "name": "hats-jec"
  },
  "language_info": {
   "codemirror_mode": {
    "name": "ipython",
    "version": 2
   },
   "file_extension": ".py",
   "mimetype": "text/x-python",
   "name": "python",
   "nbconvert_exporter": "python",
   "pygments_lexer": "ipython2",
   "version": "2.7.11"
  }
 },
 "nbformat": 4,
 "nbformat_minor": 2
}
