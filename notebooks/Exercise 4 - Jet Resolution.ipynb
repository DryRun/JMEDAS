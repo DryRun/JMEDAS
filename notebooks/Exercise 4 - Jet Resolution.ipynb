{
 "cells": [
  {
   "cell_type": "markdown",
   "metadata": {},
   "source": [
    "# Jet Resolution\n",
    "\n",
    "Jets are stochastic objects. The content of jets fluctuates quite a lot, and the content also depends on what actually caused the jet (uds quarks, gluons, etc). In addition, there are experimental limitations to the measurement of jets. Both of these aspects limit the accuracy to which we can measure the 4-momentum of a jet. This is called the jet resolution. If you have a group of single pions that have the same energy, the energy measured by CMS will not be exactly the same every time, but will typically follow a (roughly) Gaussian distribution with a mean and a width. The mean is corrected using the jet energy corrections. It is impossible to \"correct\" for all resolution effects on a jet-by-jet basis, although regression techniques can account for many effects.\n",
    "\n",
    "As such, there will always be some experimental and theoretical uncertainty in the jet energy measurement, so this is the jet energy resolution. There is also jet angular resolution, and jet mass resolution. We will demonstrate how to apply the jet energy resolution, since that is applicable for all analyses that use jets. More information can be found at the jet resolution twiki and jet resolution software guide. The resolution is measured in data for different eta bins, and was approximately 10% with a 10% uncertainty for 7 TeV and 8 TeV data. For precision, it is important to use the correctly measured resolutions, but a reasonable calculation is to assume a flat 10% uncertainty for simplicity.\n",
    "\n",
    "To perform this on `pat::Jets` in MC miniAOD, the syntax is:\n",
    "\n",
    "```\n",
    "smear = getJER(jet.eta(), 0) #JER nominal=0, up=+1, down=-1\n",
    "smearUp = getJER(jet.eta(), 1) #JER nominal=0, up=+1, down=-1\n",
    "smearDn = getJER(jet.eta(), -1) #JER nominal=0, up=+1, down=-1\n",
    "recopt = jet.pt()\n",
    "genpt = genJet.pt()\n",
    "deltapt = (recopt-genpt)*(smear-1.0)\n",
    "deltaptUp = (recopt-genpt)*(smearUp-1.0)\n",
    "deltaptDn = (recopt-genpt)*(smearDn-1.0)\n",
    "ptsmear = max(0.0, (recopt+deltapt)/recopt)\n",
    "ptsmearUp = max(0.0, (recopt+deltaptUp)/recopt)\n",
    "ptsmearDn = max(0.0, (recopt+deltaptDn)/recopt)\n",
    "corr *= ptsmear\n",
    "corrUp *= ptsmearUp\n",
    "corrDn *= ptsmearDn\n",
    "```\n",
    "\n",
    "You can see that the smearing scales the difference between the reconstructed and truth-level jet $p_{\\mathrm{T}}$s. The smearing value is taken from the function `getJER()`. \n",
    "\n",
    "Run the cell below to create histograms with the JER smearing applied. As usual, open `jmedas_make_histograms.py` again, and understand what the `getJER()` function does.  "
   ]
  },
  {
   "cell_type": "code",
   "execution_count": 1,
   "metadata": {},
   "outputs": [
    {
     "name": "stderr",
     "output_type": "stream",
     "text": [
      "/opt/local/Library/Frameworks/Python.framework/Versions/2.7/Resources/Python.app/Contents/MacOS/Python: can't open file '/src/Analysis/JMEDAS/scripts/jmedas_make_histograms.py': [Errno 2] No such file or directory\n"
     ]
    }
   ],
   "source": [
    "%%bash\n",
    "python $CMSSW_BASE/src/Analysis/JMEDAS/scripts/jmedas_make_histograms.py --files=$CMSSW_BASE/src/Analysis/JMEDAS/data/MiniAODs/RunIIFall17MiniAODv2/ttjets.txt --outname=$CMSSW_BASE/src/Analysis/JMEDAS/notebooks/files/ttjets_corr_smear.root --maxevents=2000 --maxjets=2 --correctJets Fall17_17Nov2017_V32_MC --smearJets\n"
   ]
  },
  {
   "cell_type": "markdown",
   "metadata": {},
   "source": [
    "...and run the following cell to plot the histograms. \n",
    "\n",
    "For our sample, which has a larger effect, jet energy correction uncertainty, or jet energy resolution uncertainty?\n"
   ]
  },
  {
   "cell_type": "code",
   "execution_count": 6,
   "metadata": {},
   "outputs": [
    {
     "name": "stderr",
     "output_type": "stream",
     "text": [
      "Warning in <TCanvas::Constructor>: Deleting canvas with same name: c\n"
     ]
    },
    {
     "data": {
      "image/png": "[encoded data removed]",
      "text/plain": [
       "<IPython.core.display.Image object>"
      ]
     },
     "metadata": {},
     "output_type": "display_data"
    }
   ],
   "source": [
    "import ROOT\n",
    "\n",
    "f = ROOT.TFile(\"files/ttjets_corr_smear.root\")\n",
    "h_ptAK4   = f.Get(\"h_ptAK4\")\n",
    "h_ptAK4Up  = f.Get(\"h_ptUpAK4\")\n",
    "h_ptAK4Down  = f.Get(\"h_ptDownAK4\")\n",
    "h_ptAK4Up.SetLineStyle(2)\n",
    "h_ptAK4Up.SetLineColor(ROOT.kGreen+1) \n",
    "h_ptAK4Down.SetLineStyle(2)\n",
    "h_ptAK4Down.SetLineColor(ROOT.kRed) \n",
    "h_ptAK4Up.SetLineWidth(2)\n",
    "h_ptAK4Down.SetLineWidth(2)\n",
    "h_ptAK4.SetLineWidth(2)\n",
    "\n",
    "c = ROOT.TCanvas('c', 'c')\n",
    "\n",
    "h_ptAK4.Draw()\n",
    "h_ptAK4Up.Draw(\"same\")\n",
    "h_ptAK4Down.Draw(\"same\")\n",
    "h_ptAK4.GetXaxis().SetRangeUser(0, 400)\n",
    "\n",
    "leg = ROOT.TLegend(0.45, 0.55, 0.75, 0.8)\n",
    "leg.AddEntry(h_ptAK4, \"Nominal JER\", \"l\")\n",
    "leg.AddEntry(h_ptAK4Up, \"JER +1 #sigma\", \"l\")\n",
    "leg.AddEntry(h_ptAK4Down, \"JER -1 #sigma\", \"l\")\n",
    "leg.SetLineWidth(0)\n",
    "leg.SetFillColor(0)\n",
    "leg.SetShadowColor(0)\n",
    "leg.Draw()\n",
    "\n",
    "c.Draw()"
   ]
  },
  {
   "cell_type": "code",
   "execution_count": null,
   "metadata": {},
   "outputs": [],
   "source": []
  }
 ],
 "metadata": {
  "kernelspec": {
   "display_name": "Python 2",
   "language": "python",
   "name": "python2"
  },
  "language_info": {
   "codemirror_mode": {
    "name": "ipython",
    "version": 2
   },
   "file_extension": ".py",
   "mimetype": "text/x-python",
   "name": "python",
   "nbconvert_exporter": "python",
   "pygments_lexer": "ipython2",
   "version": "2.7.15"
  }
 },
 "nbformat": 4,
 "nbformat_minor": 2
}
