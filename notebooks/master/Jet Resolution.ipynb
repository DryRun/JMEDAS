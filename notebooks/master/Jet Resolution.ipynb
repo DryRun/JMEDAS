{
 "cells": [
  {
   "cell_type": "markdown",
   "metadata": {},
   "source": [
    "# Jet Energy Resolution\n",
    "\n",
    "Jets are stochastic objects. The content of jets fluctuates quite a lot, and the content also depends on what actually caused the jet (uds quarks, gluons, etc). In addition, there are experimental limitations to the measurement of jets. Both of these aspects limit the accuracy to which we can measure the 4-momentum of a jet. This is called the jet resolution. If you have a group of single pions that have the same energy, the energy measured by CMS will not be exactly the same every time, but will typically follow a (roughly) Gaussian distribution with a mean and a width. The mean is corrected using the jet energy corrections. It is impossible to \"correct\" for all resolution effects on a jet-by-jet basis, although regression techniques can account for many effects.\n",
    "\n",
    "As such, there will always be some experimental and theoretical uncertainty in the jet energy measurement, so this is the jet energy resolution. There is also jet angular resolution, and jet mass resolution. We will demonstrate how to apply the jet energy resolution, since that is applicable for all analyses that use jets. More information can be found at the jet resolution twiki and jet resolution software guide. The resolution is measured in data for different eta bins, and was approximately 10% with a 10% uncertainty for 7 TeV and 8 TeV data. For precision, it is important to use the correctly measured resolutions, but a reasonable calculation is to assume a flat 10% uncertainty for simplicity.\n",
    "\n",
    "To perform this on `pat::Jets` in MC miniAOD, the syntax is:\n",
    "\n",
    "```\n",
    "smear = getJER(jet.eta(), 0) #JER nominal=0, up=+1, down=-1\n",
    "smearUp = getJER(jet.eta(), 1) #JER nominal=0, up=+1, down=-1\n",
    "smearDn = getJER(jet.eta(), -1) #JER nominal=0, up=+1, down=-1\n",
    "recopt = jet.pt()\n",
    "genpt = genJet.pt()\n",
    "deltapt = (recopt-genpt)*(smear-1.0)\n",
    "deltaptUp = (recopt-genpt)*(smearUp-1.0)\n",
    "deltaptDn = (recopt-genpt)*(smearDn-1.0)\n",
    "ptsmear = max(0.0, (recopt+deltapt)/recopt)\n",
    "ptsmearUp = max(0.0, (recopt+deltaptUp)/recopt)\n",
    "ptsmearDn = max(0.0, (recopt+deltaptDn)/recopt)\n",
    "corr *= ptsmear\n",
    "corrUp *= ptsmearUp\n",
    "corrDn *= ptsmearDn\n",
    "```\n",
    "\n",
    "You can see that the smearing scales the difference between the reconstructed and truth-level jet $p_{\\mathrm{T}}$s. The smearing value is taken from the function `getJER()`. \n",
    "\n",
    "Run the cell below to create histograms with the JER smearing applied. As usual, open `jmedas_make_histograms.py` again, and understand what the `getJER()` function does.  "
   ]
  },
  {
   "cell_type": "code",
   "execution_count": 1,
   "metadata": {},
   "outputs": [
    {
     "name": "stdout",
     "output_type": "stream",
     "text": [
      "Added root://cmsxrootd.fnal.gov//store/mc/RunIIFall17MiniAODv2/TTJets_TuneCP5_13TeV-madgraphMLM-pythia8/MINIAODSIM/PU2017_12Apr2018_94X_mc2017_realistic_v14-v1/20000/EA397089-9260-E811-8C95-4C79BA3201D5.root\n",
      "Added root://cmsxrootd.fnal.gov//store/mc/RunIIFall17MiniAODv2/TTJets_TuneCP5_13TeV-madgraphMLM-pythia8/MINIAODSIM/PU2017_12Apr2018_94X_mc2017_realistic_v14-v1/70000/BC2CF28A-E286-E811-A7C3-0CC47A7FC6F8.root\n",
      "Added root://cmsxrootd.fnal.gov//store/mc/RunIIFall17MiniAODv2/TTJets_TuneCP5_13TeV-madgraphMLM-pythia8/MINIAODSIM/PU2017_12Apr2018_94X_mc2017_realistic_v14-v1/70000/6ED8EEC0-EB88-E811-97DD-FA163E933851.root\n",
      "Added root://cmsxrootd.fnal.gov//store/mc/RunIIFall17MiniAODv2/TTJets_TuneCP5_13TeV-madgraphMLM-pythia8/MINIAODSIM/PU2017_12Apr2018_94X_mc2017_realistic_v14-v1/20000/DCFEEE83-AD65-E811-B55A-24BE05CEEB81.root\n",
      "Added root://cmsxrootd.fnal.gov//store/mc/RunIIFall17MiniAODv2/TTJets_TuneCP5_13TeV-madgraphMLM-pythia8/MINIAODSIM/PU2017_12Apr2018_94X_mc2017_realistic_v14-v1/70000/268FA5F8-0F8A-E811-BDC1-FA163E03D9B0.root\n",
      "Added root://cmsxrootd.fnal.gov//store/mc/RunIIFall17MiniAODv2/TTJets_TuneCP5_13TeV-madgraphMLM-pythia8/MINIAODSIM/PU2017_12Apr2018_94X_mc2017_realistic_v14-v1/70000/E45254F2-A088-E811-A057-0CC47A7C35C8.root\n",
      "Added root://cmsxrootd.fnal.gov//store/mc/RunIIFall17MiniAODv2/TTJets_TuneCP5_13TeV-madgraphMLM-pythia8/MINIAODSIM/PU2017_12Apr2018_94X_mc2017_realistic_v14-v1/70000/F2D0F584-EA88-E811-9B7A-0025905A60A0.root\n",
      "Added root://cmsxrootd.fnal.gov//store/mc/RunIIFall17MiniAODv2/TTJets_TuneCP5_13TeV-madgraphMLM-pythia8/MINIAODSIM/PU2017_12Apr2018_94X_mc2017_realistic_v14-v1/70000/367BDA0D-108A-E811-A6B3-0CC47A4D760C.root\n",
      "Added root://cmsxrootd.fnal.gov//store/mc/RunIIFall17MiniAODv2/TTJets_TuneCP5_13TeV-madgraphMLM-pythia8/MINIAODSIM/PU2017_12Apr2018_94X_mc2017_realistic_v14-v1/70000/5E3E0E98-AF87-E811-8557-0025905A612E.root\n",
      "Added root://cmsxrootd.fnal.gov//store/mc/RunIIFall17MiniAODv2/TTJets_TuneCP5_13TeV-madgraphMLM-pythia8/MINIAODSIM/PU2017_12Apr2018_94X_mc2017_realistic_v14-v1/70000/F483D01D-5889-E811-915F-0CC47A7AB7A0.root\n",
      "Processing file root://cmsxrootd.fnal.gov//store/mc/RunIIFall17MiniAODv2/TTJets_TuneCP5_13TeV-madgraphMLM-pythia8/MINIAODSIM/PU2017_12Apr2018_94X_mc2017_realistic_v14-v1/20000/EA397089-9260-E811-8C95-4C79BA3201D5.root\n",
      "    ---> Event 1000\n",
      "    ---> Event 2000\n",
      "Processing file root://cmsxrootd.fnal.gov//store/mc/RunIIFall17MiniAODv2/TTJets_TuneCP5_13TeV-madgraphMLM-pythia8/MINIAODSIM/PU2017_12Apr2018_94X_mc2017_realistic_v14-v1/70000/BC2CF28A-E286-E811-A7C3-0CC47A7FC6F8.root\n"
     ]
    }
   ],
   "source": [
    "%%bash\n",
    "python $CMSSW_BASE/src/Analysis/JMEDAS/scripts/jmedas_make_histograms.py --files=$CMSSW_BASE/src/Analysis/JMEDAS/data/MiniAODs/RunIIFall17MiniAODv2/ttjets.txt --outname=$CMSSW_BASE/src/Analysis/JMEDAS/notebooks/files/ttjets_corr_smear.root --maxevents=2000 --maxFiles 10 --maxjets=2 --correctJets Fall17_17Nov2017_V32_MC --smearJets\n"
   ]
  },
  {
   "cell_type": "markdown",
   "metadata": {},
   "source": [
    "...and run the following cell to plot the histograms. \n",
    "\n",
    "For our sample, which has a larger effect, jet energy correction uncertainty, or jet energy resolution uncertainty?\n"
   ]
  },
  {
   "cell_type": "code",
   "execution_count": 2,
   "metadata": {},
   "outputs": [
    {
     "name": "stdout",
     "output_type": "stream",
     "text": [
      "Welcome to JupyROOT 6.14/09\n"
     ]
    },
    {
     "data": {
      "image/png": "[encoded data removed]",
      "text/plain": [
       "<IPython.core.display.Image object>"
      ]
     },
     "metadata": {},
     "output_type": "display_data"
    }
   ],
   "source": [
    "import ROOT\n",
    "\n",
    "f = ROOT.TFile(\"$CMSSW_BASE/src/Analysis/JMEDAS/notebooks/files/ttjets_corr_smear.root\")\n",
    "h_ptAK4   = f.Get(\"h_ptAK4\")\n",
    "h_ptAK4Up  = f.Get(\"h_ptUpAK4\")\n",
    "h_ptAK4Down  = f.Get(\"h_ptDownAK4\")\n",
    "h_ptAK4Up.SetLineStyle(2)\n",
    "h_ptAK4Up.SetLineColor(ROOT.kGreen+1) \n",
    "h_ptAK4Down.SetLineStyle(2)\n",
    "h_ptAK4Down.SetLineColor(ROOT.kRed) \n",
    "h_ptAK4Up.SetLineWidth(2)\n",
    "h_ptAK4Down.SetLineWidth(2)\n",
    "h_ptAK4.SetLineWidth(2)\n",
    "\n",
    "c = ROOT.TCanvas('c', 'c')\n",
    "\n",
    "h_ptAK4.Draw()\n",
    "h_ptAK4Up.Draw(\"same\")\n",
    "h_ptAK4Down.Draw(\"same\")\n",
    "h_ptAK4.GetXaxis().SetRangeUser(0, 400)\n",
    "\n",
    "leg = ROOT.TLegend(0.45, 0.55, 0.75, 0.8)\n",
    "leg.AddEntry(h_ptAK4, \"Nominal JER\", \"l\")\n",
    "leg.AddEntry(h_ptAK4Up, \"JER +1 #sigma\", \"l\")\n",
    "leg.AddEntry(h_ptAK4Down, \"JER -1 #sigma\", \"l\")\n",
    "leg.SetLineWidth(0)\n",
    "leg.SetFillColor(0)\n",
    "leg.SetShadowColor(0)\n",
    "leg.Draw()\n",
    "\n",
    "c.Draw()"
   ]
  },
  {
   "cell_type": "markdown",
   "metadata": {},
   "source": [
    "## Dijet resonance peaks\n",
    "As a final exercise for the first part of this exercise, let's look at a simple dijet resonance peak. The following cell will produce histograms from an MC sample of Randall-Sundrum gravitons (RSGs) with m=3 TeV decaying to two quarks. The resulting signature is two high-$p_{\\mathrm{T}}$ jets, with a truth-level invariant mass of 3 TeV. \n",
    "\n",
    "While the code is running, look at the script (scripts/jmedas_dijet.py). "
   ]
  },
  {
   "cell_type": "code",
   "execution_count": 3,
   "metadata": {},
   "outputs": [
    {
     "name": "stdout",
     "output_type": "stream",
     "text": [
      "Added root://cmsxrootd.fnal.gov//store/mc/RunIIFall17MiniAODv2/RSGravitonToQuarkQuark_kMpl01_M_3000_TuneCP5_13TeV_pythia8/MINIAODSIM/PU2017_12Apr2018_94X_mc2017_realistic_v14-v1/50000/1ABA246B-4945-E811-9864-00269E95B1AC.root\n",
      "Added root://cmsxrootd.fnal.gov//store/mc/RunIIFall17MiniAODv2/RSGravitonToQuarkQuark_kMpl01_M_3000_TuneCP5_13TeV_pythia8/MINIAODSIM/PU2017_12Apr2018_94X_mc2017_realistic_v14-v1/50000/288C2B75-4945-E811-A4BC-C81F66C8BA4C.root\n",
      "Added root://cmsxrootd.fnal.gov//store/mc/RunIIFall17MiniAODv2/RSGravitonToQuarkQuark_kMpl01_M_3000_TuneCP5_13TeV_pythia8/MINIAODSIM/PU2017_12Apr2018_94X_mc2017_realistic_v14-v1/50000/2E4CDA4B-4945-E811-8405-D4AE52E7FBCA.root\n",
      "Added root://cmsxrootd.fnal.gov//store/mc/RunIIFall17MiniAODv2/RSGravitonToQuarkQuark_kMpl01_M_3000_TuneCP5_13TeV_pythia8/MINIAODSIM/PU2017_12Apr2018_94X_mc2017_realistic_v14-v1/50000/3262F02A-4945-E811-84F3-0242AC1C0500.root\n",
      "Added root://cmsxrootd.fnal.gov//store/mc/RunIIFall17MiniAODv2/RSGravitonToQuarkQuark_kMpl01_M_3000_TuneCP5_13TeV_pythia8/MINIAODSIM/PU2017_12Apr2018_94X_mc2017_realistic_v14-v1/50000/3E898A26-4945-E811-BD45-3417EBE6459A.root\n",
      "Added root://cmsxrootd.fnal.gov//store/mc/RunIIFall17MiniAODv2/RSGravitonToQuarkQuark_kMpl01_M_3000_TuneCP5_13TeV_pythia8/MINIAODSIM/PU2017_12Apr2018_94X_mc2017_realistic_v14-v1/50000/42E6606C-4945-E811-A3A5-901B0E6459CA.root\n",
      "Added root://cmsxrootd.fnal.gov//store/mc/RunIIFall17MiniAODv2/RSGravitonToQuarkQuark_kMpl01_M_3000_TuneCP5_13TeV_pythia8/MINIAODSIM/PU2017_12Apr2018_94X_mc2017_realistic_v14-v1/50000/54DDF924-4945-E811-899A-A0369FE2C176.root\n",
      "Added root://cmsxrootd.fnal.gov//store/mc/RunIIFall17MiniAODv2/RSGravitonToQuarkQuark_kMpl01_M_3000_TuneCP5_13TeV_pythia8/MINIAODSIM/PU2017_12Apr2018_94X_mc2017_realistic_v14-v1/50000/56FDCF27-4945-E811-8C6A-001E6779258C.root\n",
      "Added root://cmsxrootd.fnal.gov//store/mc/RunIIFall17MiniAODv2/RSGravitonToQuarkQuark_kMpl01_M_3000_TuneCP5_13TeV_pythia8/MINIAODSIM/PU2017_12Apr2018_94X_mc2017_realistic_v14-v1/50000/5CA1DE28-4945-E811-AAA6-549F35AC7E7D.root\n",
      "Added root://cmsxrootd.fnal.gov//store/mc/RunIIFall17MiniAODv2/RSGravitonToQuarkQuark_kMpl01_M_3000_TuneCP5_13TeV_pythia8/MINIAODSIM/PU2017_12Apr2018_94X_mc2017_realistic_v14-v1/50000/5E526B70-4945-E811-AF4D-1418776426C3.root\n",
      "Added root://cmsxrootd.fnal.gov//store/mc/RunIIFall17MiniAODv2/RSGravitonToQuarkQuark_kMpl01_M_3000_TuneCP5_13TeV_pythia8/MINIAODSIM/PU2017_12Apr2018_94X_mc2017_realistic_v14-v1/50000/6A667627-4945-E811-9CB9-0CC47AF9B13A.root\n",
      "Added root://cmsxrootd.fnal.gov//store/mc/RunIIFall17MiniAODv2/RSGravitonToQuarkQuark_kMpl01_M_3000_TuneCP5_13TeV_pythia8/MINIAODSIM/PU2017_12Apr2018_94X_mc2017_realistic_v14-v1/50000/6C39157C-4945-E811-AEB5-009C029C120A.root\n",
      "Added root://cmsxrootd.fnal.gov//store/mc/RunIIFall17MiniAODv2/RSGravitonToQuarkQuark_kMpl01_M_3000_TuneCP5_13TeV_pythia8/MINIAODSIM/PU2017_12Apr2018_94X_mc2017_realistic_v14-v1/50000/70743266-4945-E811-B766-008CFA0B19E0.root\n",
      "Added root://cmsxrootd.fnal.gov//store/mc/RunIIFall17MiniAODv2/RSGravitonToQuarkQuark_kMpl01_M_3000_TuneCP5_13TeV_pythia8/MINIAODSIM/PU2017_12Apr2018_94X_mc2017_realistic_v14-v1/50000/AE8D076C-4945-E811-909C-7CD30AD0A354.root\n",
      "Added root://cmsxrootd.fnal.gov//store/mc/RunIIFall17MiniAODv2/RSGravitonToQuarkQuark_kMpl01_M_3000_TuneCP5_13TeV_pythia8/MINIAODSIM/PU2017_12Apr2018_94X_mc2017_realistic_v14-v1/50000/BC404C43-4945-E811-AB71-24BE05C668E1.root\n",
      "Added root://cmsxrootd.fnal.gov//store/mc/RunIIFall17MiniAODv2/RSGravitonToQuarkQuark_kMpl01_M_3000_TuneCP5_13TeV_pythia8/MINIAODSIM/PU2017_12Apr2018_94X_mc2017_realistic_v14-v1/50000/BECE0B26-4945-E811-862F-0CC47A7C35D8.root\n",
      "Added root://cmsxrootd.fnal.gov//store/mc/RunIIFall17MiniAODv2/RSGravitonToQuarkQuark_kMpl01_M_3000_TuneCP5_13TeV_pythia8/MINIAODSIM/PU2017_12Apr2018_94X_mc2017_realistic_v14-v1/50000/D60C5671-4945-E811-9C93-0025909090C2.root\n",
      "Added root://cmsxrootd.fnal.gov//store/mc/RunIIFall17MiniAODv2/RSGravitonToQuarkQuark_kMpl01_M_3000_TuneCP5_13TeV_pythia8/MINIAODSIM/PU2017_12Apr2018_94X_mc2017_realistic_v14-v1/90000/24CD3662-A248-E811-A478-A0369FD0B3FA.root\n",
      "Added root://cmsxrootd.fnal.Added root://cmsxrootd.fnal.gov//store/mc/RunIIFall17MiniAODv2/RSGravitonToQuarkQuark_kMpl01_M_3000_TuneCP5_13TeV_pythia8/MINIAODSIM/PU2017_12Apr2018_94X_mc2017_realistic_v14-v1/50000/1ABA246B-4945-E811-9864-00269E95B1AC.root\n",
      "Added root://cmsxrootd.fnal.gov//store/mc/RunIIFall17MiniAODv2/RSGravitonToQuarkQuark_kMpl01_M_3000_TuneCP5_13TeV_pythia8/MINIAODSIM/PU2017_12Apr2018_94X_mc2017_realistic_v14-v1/50000/288C2B75-4945-E811-A4BC-C81F66C8BA4C.root\n",
      "Added root://cmsxrootd.fnal.gov//store/mc/RunIIFall17MiniAODv2/RSGravitonToQuarkQuark_kMpl01_M_3000_TuneCP5_13TeV_pythia8/MINIAODSIM/PU2017_12Apr2018_94X_mc2017_realistic_v14-v1/50000/2E4CDA4B-4945-E811-8405-D4AE52E7FBCA.root\n",
      "Added root://cmsxrootd.fnal.gov//store/mc/RunIIFall17MiniAODv2/RSGravitonToQuarkQuark_kMpl01_M_3000_TuneCP5_13TeV_pythia8/MINIAODSIM/PU2017_12Apr2018_94X_mc2017_realistic_v14-v1/50000/3262F02A-4945-E811-84F3-0242AC1C0500.root\n",
      "Added root://cmsxrootd.fnal.gov//store/mc/RunIIFall17MiniAODv2/RSGravitonToQuarkQuark_kMpl01_M_3000_TuneCP5_13TeV_pythia8/MINIAODSIM/PU2017_12Apr2018_94X_mc2017_realistic_v14-v1/50000/3E898A26-4945-E811-BD45-3417EBE6459A.root\n",
      "Added root://cmsxrootd.fnal.gov//store/mc/RunIIFall17MiniAODv2/RSGravitonToQuarkQuark_kMpl01_M_3000_TuneCP5_13TeV_pythia8/MINIAODSIM/PU2017_12Apr2018_94X_mc2017_realistic_v14-v1/50000/42E6606C-4945-E811-A3A5-901B0E6459CA.root\n",
      "Added root://cmsxrootd.fnal.gov//store/mc/RunIIFall17MiniAODv2/RSGravitonToQuarkQuark_kMpl01_M_3000_TuneCP5_13TeV_pythia8/MINIAODSIM/PU2017_12Apr2018_94X_mc2017_realistic_v14-v1/50000/54DDF924-4945-E811-899A-A0369FE2C176.root\n",
      "Added root://cmsxrootd.fnal.gov//store/mc/RunIIFall17MiniAODv2/RSGravitonToQuarkQuark_kMpl01_M_3000_TuneCP5_13TeV_pythia8/MINIAODSIM/PU2017_12Apr2018_94X_mc2017_realistic_v14-v1/50000/56FDCF27-4945-E811-8C6A-001E6779258C.root\n",
      "Added root://cmsxrootd.fnal.gov//store/mc/RunIIFall17MiniAODv2/RSGravitonToQuarkQuark_kMpl01_M_3000_TuneCP5_13TeV_pythia8/MINIAODSIM/PU2017_12Apr2018_94X_mc2017_realistic_v14-v1/50000/5CA1DE28-4945-E811-AAA6-549F35AC7E7D.root\n",
      "Added root://cmsxrootd.fnal.gov//store/mc/RunIIFall17MiniAODv2/RSGravitonToQuarkQuark_kMpl01_M_3000_TuneCP5_13TeV_pythia8/MINIAODSIM/PU2017_12Apr2018_94X_mc2017_realistic_v14-v1/50000/5E526B70-4945-E811-AF4D-1418776426C3.root\n",
      "Added root://cmsxrootd.fnal.gov//store/mc/RunIIFall17MiniAODv2/RSGravitonToQuarkQuark_kMpl01_M_3000_TuneCP5_13TeV_pythia8/MINIAODSIM/PU2017_12Apr2018_94X_mc2017_realistic_v14-v1/50000/6A667627-4945-E811-9CB9-0CC47AF9B13A.root\n",
      "Added root://cmsxrootd.fnal.gov//store/mc/RunIIFall17MiniAODv2/RSGravitonToQuarkQuark_kMpl01_M_3000_TuneCP5_13TeV_pythia8/MINIAODSIM/PU2017_12Apr2018_94X_mc2017_realistic_v14-v1/50000/6C39157C-4945-E811-AEB5-009C029C120A.root\n",
      "Added root://cmsxrootd.fnal.gov//store/mc/RunIIFall17MiniAODv2/RSGravitonToQuarkQuark_kMpl01_M_3000_TuneCP5_13TeV_pythia8/MINIAODSIM/PU2017_12Apr2018_94X_mc2017_realistic_v14-v1/50000/70743266-4945-E811-B766-008CFA0B19E0.root\n",
      "Added root://cmsxrootd.fnal.gov//store/mc/RunIIFall17MiniAODv2/RSGravitonToQuarkQuark_kMpl01_M_3000_TuneCP5_13TeV_pythia8/MINIAODSIM/PU2017_12Apr2018_94X_mc2017_realistic_v14-v1/50000/AE8D076C-4945-E811-909C-7CD30AD0A354.root\n",
      "Added root://cmsxrootd.fnal.gov//store/mc/RunIIFall17MiniAODv2/RSGravitonToQuarkQuark_kMpl01_M_3000_TuneCP5_13TeV_pythia8/MINIAODSIM/PU2017_12Apr2018_94X_mc2017_realistic_v14-v1/50000/BC404C43-4945-E811-AB71-24BE05C668E1.root\n",
      "Added root://cmsxrootd.fnal.gov//store/mc/RunIIFall17MiniAODv2/RSGravitonToQuarkQuark_kMpl01_M_3000_TuneCP5_13TeV_pythia8/MINIAODSIM/PU2017_12Apr2018_94X_mc2017_realistic_v14-v1/50000/BECE0B26-4945-E811-862F-0CC47A7C35D8.root\n",
      "Added root://cmsxrootd.fnal.gov//store/mc/RunIIFall17MiniAODv2/RSGravitonToQuarkQuark_kMpl01_M_3000_TuneCP5_13TeV_pythia8/MINIAODSIM/PU2017_12Apr2018_94X_mc2017_realistic_v14-v1/50000/D60C5671-4945-E811-9C93-0025909090C2.root\n",
      "Added root://cmsxrootd.fnal.gov//store/mc/RunIIFall17MiniAODv2/RSGravitonToQuarkQuark_kMpl01_M_3000_TuneCP5_13TeV_pythia8/MINIAODSIM/PU2017_12Apr2018_94X_mc2017_realistic_v14-v1/90000/24CD3662-A248-E811-A478-A0369FD0B3FA.root\n",
      "Added root://cmsxrootd.fnal.Added root://cmsxrootd.fnal.gov//store/mc/RunIIFall17MiniAODv2/RSGravitonToQuarkQuark_kMpl01_M_3000_TuneCP5_13TeV_pythia8/MINIAODSIM/PU2017_12Apr2018_94X_mc2017_realistic_v14-v1/50000/1ABA246B-4945-E811-9864-00269E95B1AC.root\n",
      "Added root://cmsxrootd.fnal.gov//store/mc/RunIIFall17MiniAODv2/RSGravitonToQuarkQuark_kMpl01_M_3000_TuneCP5_13TeV_pythia8/MINIAODSIM/PU2017_12Apr2018_94X_mc2017_realistic_v14-v1/50000/288C2B75-4945-E811-A4BC-C81F66C8BA4C.root\n",
      "Added root://cmsxrootd.fnal.gov//store/mc/RunIIFall17MiniAODv2/RSGravitonToQuarkQuark_kMpl01_M_3000_TuneCP5_13TeV_pythia8/MINIAODSIM/PU2017_12Apr2018_94X_mc2017_realistic_v14-v1/50000/2E4CDA4B-4945-E811-8405-D4AE52E7FBCA.root\n",
      "Added root://cmsxrootd.fnal.gov//store/mc/RunIIFall17MiniAODv2/RSGravitonToQuarkQuark_kMpl01_M_3000_TuneCP5_13TeV_pythia8/MINIAODSIM/PU2017_12Apr2018_94X_mc2017_realistic_v14-v1/50000/3262F02A-4945-E811-84F3-0242AC1C0500.root\n",
      "Added root://cmsxrootd.fnal.gov//store/mc/RunIIFall17MiniAODv2/RSGravitonToQuarkQuark_kMpl01_M_3000_TuneCP5_13TeV_pythia8/MINIAODSIM/PU2017_12Apr2018_94X_mc2017_realistic_v14-v1/50000/3E898A26-4945-E811-BD45-3417EBE6459A.root\n",
      "Added root://cmsxrootd.fnal.gov//store/mc/RunIIFall17MiniAODv2/RSGravitonToQuarkQuark_kMpl01_M_3000_TuneCP5_13TeV_pythia8/MINIAODSIM/PU2017_12Apr2018_94X_mc2017_realistic_v14-v1/50000/42E6606C-4945-E811-A3A5-901B0E6459CA.root\n",
      "Added root://cmsxrootd.fnal.gov//store/mc/RunIIFall17MiniAODv2/RSGravitonToQuarkQuark_kMpl01_M_3000_TuneCP5_13TeV_pythia8/MINIAODSIM/PU2017_12Apr2018_94X_mc2017_realistic_v14-v1/50000/54DDF924-4945-E811-899A-A0369FE2C176.root\n",
      "Added root://cmsxrootd.fnal.gov//store/mc/RunIIFall17MiniAODv2/RSGravitonToQuarkQuark_kMpl01_M_3000_TuneCP5_13TeV_pythia8/MINIAODSIM/PU2017_12Apr2018_94X_mc2017_realistic_v14-v1/50000/56FDCF27-4945-E811-8C6A-001E6779258C.root\n",
      "Added root://cmsxrootd.fnal.gov//store/mc/RunIIFall17MiniAODv2/RSGravitonToQuarkQuark_kMpl01_M_3000_TuneCP5_13TeV_pythia8/MINIAODSIM/PU2017_12Apr2018_94X_mc2017_realistic_v14-v1/50000/5CA1DE28-4945-E811-AAA6-549F35AC7E7D.root\n",
      "Added root://cmsxrootd.fnal.gov//store/mc/RunIIFall17MiniAODv2/RSGravitonToQuarkQuark_kMpl01_M_3000_TuneCP5_13TeV_pythia8/MINIAODSIM/PU2017_12Apr2018_94X_mc2017_realistic_v14-v1/50000/5E526B70-4945-E811-AF4D-1418776426C3.root\n",
      "Added root://cmsxrootd.fnal.gov//store/mc/RunIIFall17MiniAODv2/RSGravitonToQuarkQuark_kMpl01_M_3000_TuneCP5_13TeV_pythia8/MINIAODSIM/PU2017_12Apr2018_94X_mc2017_realistic_v14-v1/50000/6A667627-4945-E811-9CB9-0CC47AF9B13A.root\n",
      "Added root://cmsxrootd.fnal.gov//store/mc/RunIIFall17MiniAODv2/RSGravitonToQuarkQuark_kMpl01_M_3000_TuneCP5_13TeV_pythia8/MINIAODSIM/PU2017_12Apr2018_94X_mc2017_realistic_v14-v1/50000/6C39157C-4945-E811-AEB5-009C029C120A.root\n",
      "Added root://cmsxrootd.fnal.gov//store/mc/RunIIFall17MiniAODv2/RSGravitonToQuarkQuark_kMpl01_M_3000_TuneCP5_13TeV_pythia8/MINIAODSIM/PU2017_12Apr2018_94X_mc2017_realistic_v14-v1/50000/70743266-4945-E811-B766-008CFA0B19E0.root\n",
      "Added root://cmsxrootd.fnal.gov//store/mc/RunIIFall17MiniAODv2/RSGravitonToQuarkQuark_kMpl01_M_3000_TuneCP5_13TeV_pythia8/MINIAODSIM/PU2017_12Apr2018_94X_mc2017_realistic_v14-v1/50000/AE8D076C-4945-E811-909C-7CD30AD0A354.root\n",
      "Added root://cmsxrootd.fnal.gov//store/mc/RunIIFall17MiniAODv2/RSGravitonToQuarkQuark_kMpl01_M_3000_TuneCP5_13TeV_pythia8/MINIAODSIM/PU2017_12Apr2018_94X_mc2017_realistic_v14-v1/50000/BC404C43-4945-E811-AB71-24BE05C668E1.root\n",
      "Added root://cmsxrootd.fnal.gov//store/mc/RunIIFall17MiniAODv2/RSGravitonToQuarkQuark_kMpl01_M_3000_TuneCP5_13TeV_pythia8/MINIAODSIM/PU2017_12Apr2018_94X_mc2017_realistic_v14-v1/50000/BECE0B26-4945-E811-862F-0CC47A7C35D8.root\n",
      "Added root://cmsxrootd.fnal.gov//store/mc/RunIIFall17MiniAODv2/RSGravitonToQuarkQuark_kMpl01_M_3000_TuneCP5_13TeV_pythia8/MINIAODSIM/PU2017_12Apr2018_94X_mc2017_realistic_v14-v1/50000/D60C5671-4945-E811-9C93-0025909090C2.root\n",
      "Added root://cmsxrootd.fnal.gov//store/mc/RunIIFall17MiniAODv2/RSGravitonToQuarkQuark_kMpl01_M_3000_TuneCP5_13TeV_pythia8/MINIAODSIM/PU2017_12Apr2018_94X_mc2017_realistic_v14-v1/90000/24CD3662-A248-E811-A478-A0369FD0B3FA.root\n",
      "Added root://cmsxrootd.fnal.gov//store/mc/RunIIFall17MiniAODv2/RSGravitonToQuarkQuark_kMpl01_M_3000_TuneCP5_13TeV_pythia8/MINIAODSIM/PU2017_12Apr2018_94X_mc2017_realistic_v14-v1/90000/A4BA7771-9C4A-E811-9AFF-002590743042.root\n",
      "Added root://cmsxrootd.fnal.gov//store/mc/RunIIFall17MiniAODv2/RSGravitonToQuarkQuark_kMpl01_M_3000_TuneCP5_13TeV_pythia8/MINIAODSIM/PU2017_12Apr2018_94X_mc2017_realistic_v14-v1/90000/C4EC8F84-9C4A-E811-A41A-34E6D7BEAF28.root\n",
      "Processing file root://cmsxrootd.fnal.gov//store/mc/RunIIFall17MiniAODv2/RSGravitonToQuarkQuark_kMpl01_M_3000_TuneCP5_13TeV_pythia8/MINIAODSIM/PU2017_12Apr2018_94X_mc2017_realistic_v14-v1/50000/1ABA246B-4945-E811-9864-00269E95B1AC.root\n",
      "    ---> Event 1000\n",
      "    ---> Event 2000\n",
      "Processing file root://cmsxrootd.fnal.gov//store/mc/RunIIFall17MiniAODv2/RSGravitonToQuarkQuark_kMpl01_M_3000_TuneCP5_13TeV_pythia8/MINIAODSIM/PU2017_12Apr2018_94X_mc2017_realistic_v14-v1/50000/288C2B75-4945-E811-A4BC-C81F66C8BA4C.root\n",
      "    ---> Event 1000\n",
      "    ---> Event 2000\n",
      "Processing file root://cmsxrootd.fnal.gov//store/mc/RunIIFall17MiniAODv2/RSGravitonToQuarkQuark_kMpl01_M_3000_TuneCP5_13TeV_pythia8/MINIAODSIM/PU2017_12Apr2018_94X_mc2017_realistic_v14-v1/50000/2E4CDA4B-4945-E811-8405-D4AE52E7FBCA.root\n",
      "Added root://cmsxrootd.fnal.gov//store/mc/RunIIFall17MiniAODv2/RSGravitonToQuarkQuark_kMpl01_M_3000_TuneCP5_13TeV_pythia8/MINIAODSIM/PU2017_12Apr2018_94X_mc2017_realistic_v14-v1/50000/1ABA246B-4945-E811-9864-00269E95B1AC.root\n",
      "Added root://cmsxrootd.fnal.gov//store/mc/RunIIFall17MiniAODv2/RSGravitonToQuarkQuark_kMpl01_M_3000_TuneCP5_13TeV_pythia8/MINIAODSIM/PU2017_12Apr2018_94X_mc2017_realistic_v14-v1/50000/288C2B75-4945-E811-A4BC-C81F66C8BA4C.root\n",
      "Added root://cmsxrootd.fnal.gov//store/mc/RunIIFall17MiniAODv2/RSGravitonToQuarkQuark_kMpl01_M_3000_TuneCP5_13TeV_pythia8/MINIAODSIM/PU2017_12Apr2018_94X_mc2017_realistic_v14-v1/50000/2E4CDA4B-4945-E811-8405-D4AE52E7FBCA.root\n",
      "Added root://cmsxrootd.fnal.gov//store/mc/RunIIFall17MiniAODv2/RSGravitonToQuarkQuark_kMpl01_M_3000_TuneCP5_13TeV_pythia8/MINIAODSIM/PU2017_12Apr2018_94X_mc2017_realistic_v14-v1/50000/3262F02A-4945-E811-84F3-0242AC1C0500.root\n",
      "Added root://cmsxrootd.fnal.gov//store/mc/RunIIFall17MiniAODv2/RSGravitonToQuarkQuark_kMpl01_M_3000_TuneCP5_13TeV_pythia8/MINIAODSIM/PU2017_12Apr2018_94X_mc2017_realistic_v14-v1/50000/3E898A26-4945-E811-BD45-3417EBE6459A.root\n",
      "Added root://cmsxrootd.fnal.gov//store/mc/RunIIFall17MiniAODv2/RSGravitonToQuarkQuark_kMpl01_M_3000_TuneCP5_13TeV_pythia8/MINIAODSIM/PU2017_12Apr2018_94X_mc2017_realistic_v14-v1/50000/42E6606C-4945-E811-A3A5-901B0E6459CA.root\n",
      "Added root://cmsxrootd.fnal.gov//store/mc/RunIIFall17MiniAODv2/RSGravitonToQuarkQuark_kMpl01_M_3000_TuneCP5_13TeV_pythia8/MINIAODSIM/PU2017_12Apr2018_94X_mc2017_realistic_v14-v1/50000/54DDF924-4945-E811-899A-A0369FE2C176.root\n",
      "Added root://cmsxrootd.fnal.gov//store/mc/RunIIFall17MiniAODv2/RSGravitonToQuarkQuark_kMpl01_M_3000_TuneCP5_13TeV_pythia8/MINIAODSIM/PU2017_12Apr2018_94X_mc2017_realistic_v14-v1/50000/56FDCF27-4945-E811-8C6A-001E6779258C.root\n",
      "Added root://cmsxrootd.fnal.gov//store/mc/RunIIFall17MiniAODv2/RSGravitonToQuarkQuark_kMpl01_M_3000_TuneCP5_13TeV_pythia8/MINIAODSIM/PU2017_12Apr2018_94X_mc2017_realistic_v14-v1/50000/5CA1DE28-4945-E811-AAA6-549F35AC7E7D.root\n",
      "Added root://cmsxrootd.fnal.gov//store/mc/RunIIFall17MiniAODv2/RSGravitonToQuarkQuark_kMpl01_M_3000_TuneCP5_13TeV_pythia8/MINIAODSIM/PU2017_12Apr2018_94X_mc2017_realistic_v14-v1/50000/5E526B70-4945-E811-AF4D-1418776426C3.root\n",
      "Added root://cmsxrootd.fnal.gov//store/mc/RunIIFall17MiniAODv2/RSGravitonToQuarkQuark_kMpl01_M_3000_TuneCP5_13TeV_pythia8/MINIAODSIM/PU2017_12Apr2018_94X_mc2017_realistic_v14-v1/50000/6A667627-4945-E811-9CB9-0CC47AF9B13A.root\n",
      "Added root://cmsxrootd.fnal.gov//store/mc/RunIIFall17MiniAODv2/RSGravitonToQuarkQuark_kMpl01_M_3000_TuneCP5_13TeV_pythia8/MINIAODSIM/PU2017_12Apr2018_94X_mc2017_realistic_v14-v1/50000/6C39157C-4945-E811-AEB5-009C029C120A.root\n",
      "Added root://cmsxrootd.fnal.gov//store/mc/RunIIFall17MiniAODv2/RSGravitonToQuarkQuark_kMpl01_M_3000_TuneCP5_13TeV_pythia8/MINIAODSIM/PU2017_12Apr2018_94X_mc2017_realistic_v14-v1/50000/70743266-4945-E811-B766-008CFA0B19E0.root\n",
      "Added root://cmsxrootd.fnal.gov//store/mc/RunIIFall17MiniAODv2/RSGravitonToQuarkQuark_kMpl01_M_3000_TuneCP5_13TeV_pythia8/MINIAODSIM/PU2017_12Apr2018_94X_mc2017_realistic_v14-v1/50000/AE8D076C-4945-E811-909C-7CD30AD0A354.root\n",
      "Added root://cmsxrootd.fnal.gov//store/mc/RunIIFall17MiniAODv2/RSGravitonToQuarkQuark_kMpl01_M_3000_TuneCP5_13TeV_pythia8/MINIAODSIM/PU2017_12Apr2018_94X_mc2017_realistic_v14-v1/50000/BC404C43-4945-E811-AB71-24BE05C668E1.root\n",
      "Added root://cmsxrootd.fnal.gov//store/mc/RunIIFall17MiniAODv2/RSGravitonToQuarkQuark_kMpl01_M_3000_TuneCP5_13TeV_pythia8/MINIAODSIM/PU2017_12Apr2018_94X_mc2017_realistic_v14-v1/50000/BECE0B26-4945-E811-862F-0CC47A7C35D8.root\n",
      "Added root://cmsxrootd.fnal.gov//store/mc/RunIIFall17MiniAODv2/RSGravitonToQuarkQuark_kMpl01_M_3000_TuneCP5_13TeV_pythia8/MINIAODSIM/PU2017_12Apr2018_94X_mc2017_realistic_v14-v1/50000/D60C5671-4945-E811-9C93-0025909090C2.root\n",
      "Added root://cmsxrootd.fnal.gov//store/mc/RunIIFall17MiniAODv2/RSGravitonToQuarkQuark_kMpl01_M_3000_TuneCP5_13TeV_pythia8/MINIAODSIM/PU2017_12Apr2018_94X_mc2017_realistic_v14-v1/90000/24CD3662-A248-E811-A478-A0369FD0B3FA.root\n",
      "Added root://cmsxrootd.fnal.gov//store/mc/RunIIFall17MiniAODv2/RSGravitonToQuarkQuark_kMpl01_M_3000_TuneCP5_13TeV_pythia8/MINIAODSIM/PU2017_12Apr2018_94X_mc2017_realistic_v14-v1/90000/A4BA7771-9C4A-E811-9AFF-002590743042.root\n",
      "Added root://cmsxrootd.fnal.gov//store/mc/RunIIFall17MiniAODv2/RSGravitonToQuarkQuark_kMpl01_M_3000_TuneCP5_13TeV_pythia8/MINIAODSIM/PU2017_12Apr2018_94X_mc2017_realistic_v14-v1/90000/C4EC8F84-9C4A-E811-A41A-34E6D7BEAF28.root\n",
      "Processing file root://cmsxrootd.fnal.gov//store/mc/RunIIFall17MiniAODv2/RSGravitonToQuarkQuark_kMpl01_M_3000_TuneCP5_13TeV_pythia8/MINIAODSIM/PU2017_12Apr2018_94X_mc2017_realistic_v14-v1/50000/1ABA246B-4945-E811-9864-00269E95B1AC.root\n",
      "    ---> Event 1000\n",
      "    ---> Event 2000\n",
      "Processing file root://cmsxrootd.fnal.gov//store/mc/RunIIFall17MiniAODv2/RSGravitonToQuarkQuark_kMpl01_M_3000_TuneCP5_13TeV_pythia8/MINIAODSIM/PU2017_12Apr2018_94X_mc2017_realistic_v14-v1/50000/288C2B75-4945-E811-A4BC-C81F66C8BA4C.root\n",
      "    ---> Event 1000\n",
      "    ---> Event 2000\n",
      "Processing file root://cmsxrootd.fnal.gov//store/mc/RunIIFall17MiniAODv2/RSGravitonToQuarkQuark_kMpl01_M_3000_TuneCP5_13TeV_pythia8/MINIAODSIM/PU2017_12Apr2018_94X_mc2017_realistic_v14-v1/50000/2E4CDA4B-4945-E811-8405-D4AE52E7FBCA.root\n"
     ]
    },
    {
     "name": "stderr",
     "output_type": "stream",
     "text": [
      "bash: line 1:  8684 Killed                  python $CMSSW_BASE/src/Analysis/JMEDAS/scripts/jmedas_dijet.py --files=$CMSSW_BASE/src/Analysis/JMEDAS/data/MiniAODs/RunIIFall17MiniAODv2/rsgluon_qq_3000GeV.txt --outname=$CMSSW_BASE/src/Analysis/JMEDAS/notebooks/files/rsgluon_qq_3000GeV.root --maxevents=4000 --maxjets=6\n",
      "bash: line 2:  8811 Killed                  python $CMSSW_BASE/src/Analysis/JMEDAS/scripts/jmedas_dijet.py --files=$CMSSW_BASE/src/Analysis/JMEDAS/data/MiniAODs/RunIIFall17MiniAODv2/rsgluon_qq_3000GeV.txt --outname=$CMSSW_BASE/src/Analysis/JMEDAS/notebooks/files/rsgluon_qq_3000GeV_corr.root --maxevents=4000 --maxjets=6 --correctJets Fall17_17Nov2017_V32_MC\n"
     ]
    }
   ],
   "source": [
    "%%bash\n",
    "python $CMSSW_BASE/src/Analysis/JMEDAS/scripts/jmedas_dijet.py --files=$CMSSW_BASE/src/Analysis/JMEDAS/data/MiniAODs/RunIIFall17MiniAODv2/rsgluon_qq_3000GeV.txt --outname=$CMSSW_BASE/src/Analysis/JMEDAS/notebooks/files/rsgluon_qq_3000GeV.root --maxevents=4000 --maxjets=6\n",
    "python $CMSSW_BASE/src/Analysis/JMEDAS/scripts/jmedas_dijet.py --files=$CMSSW_BASE/src/Analysis/JMEDAS/data/MiniAODs/RunIIFall17MiniAODv2/rsgluon_qq_3000GeV.txt --outname=$CMSSW_BASE/src/Analysis/JMEDAS/notebooks/files/rsgluon_qq_3000GeV_corr.root --maxevents=4000 --maxjets=6 --correctJets Fall17_17Nov2017_V32_MC\n",
    "python $CMSSW_BASE/src/Analysis/JMEDAS/scripts/jmedas_dijet.py --files=$CMSSW_BASE/src/Analysis/JMEDAS/data/MiniAODs/RunIIFall17MiniAODv2/rsgluon_qq_3000GeV.txt --outname=$CMSSW_BASE/src/Analysis/JMEDAS/notebooks/files/rsgluon_qq_3000GeV_smear.root --maxevents=4000 --maxjets=6 --smearJets\n",
    "python $CMSSW_BASE/src/Analysis/JMEDAS/scripts/jmedas_dijet.py --files=$CMSSW_BASE/src/Analysis/JMEDAS/data/MiniAODs/RunIIFall17MiniAODv2/rsgluon_qq_3000GeV.txt --outname=$CMSSW_BASE/src/Analysis/JMEDAS/notebooks/files/rsgluon_qq_3000GeV_corr_smear.root --maxevents=4000 --maxjets=6 --correctJets Fall17_17Nov2017_V32_MC --smearJets\n"
   ]
  },
  {
   "cell_type": "markdown",
   "metadata": {},
   "source": [
    "...and then plot the resulting histograms."
   ]
  },
  {
   "cell_type": "code",
   "execution_count": 4,
   "metadata": {},
   "outputs": [
    {
     "ename": "AttributeError",
     "evalue": "'TObject' object has no attribute 'SetName'",
     "output_type": "error",
     "traceback": [
      "\u001b[0;31m\u001b[0m",
      "\u001b[0;31mAttributeError\u001b[0mTraceback (most recent call last)",
      "\u001b[0;32m<ipython-input-4-e9a4f448c957>\u001b[0m in \u001b[0;36m<module>\u001b[0;34m()\u001b[0m\n\u001b[1;32m      1\u001b[0m \u001b[0mf_nominal\u001b[0m \u001b[0;34m=\u001b[0m \u001b[0mROOT\u001b[0m\u001b[0;34m.\u001b[0m\u001b[0mTFile\u001b[0m\u001b[0;34m(\u001b[0m\u001b[0;34m\"$CMSSW_BASE/src/Analysis/JMEDAS/notebooks/files/rsgluon_qq_3000GeV.root\"\u001b[0m\u001b[0;34m)\u001b[0m\u001b[0;34m\u001b[0m\u001b[0m\n\u001b[1;32m      2\u001b[0m \u001b[0mh_nominal\u001b[0m \u001b[0;34m=\u001b[0m \u001b[0mf_nominal\u001b[0m\u001b[0;34m.\u001b[0m\u001b[0mGet\u001b[0m\u001b[0;34m(\u001b[0m\u001b[0;34m\"h_dijet_mass\"\u001b[0m\u001b[0;34m)\u001b[0m\u001b[0;34m\u001b[0m\u001b[0m\n\u001b[0;32m----> 3\u001b[0;31m \u001b[0mh_nominal\u001b[0m\u001b[0;34m.\u001b[0m\u001b[0mSetName\u001b[0m\u001b[0;34m(\u001b[0m\u001b[0;34m\"h_dijet_mass_nominal\"\u001b[0m\u001b[0;34m)\u001b[0m\u001b[0;34m\u001b[0m\u001b[0m\n\u001b[0m\u001b[1;32m      4\u001b[0m \u001b[0mh_nominal\u001b[0m\u001b[0;34m.\u001b[0m\u001b[0mSetDirectory\u001b[0m\u001b[0;34m(\u001b[0m\u001b[0;36m0\u001b[0m\u001b[0;34m)\u001b[0m\u001b[0;34m\u001b[0m\u001b[0m\n\u001b[1;32m      5\u001b[0m \u001b[0mh_gen\u001b[0m \u001b[0;34m=\u001b[0m \u001b[0mf_nominal\u001b[0m\u001b[0;34m.\u001b[0m\u001b[0mGet\u001b[0m\u001b[0;34m(\u001b[0m\u001b[0;34m\"h_dijet_genmass\"\u001b[0m\u001b[0;34m)\u001b[0m\u001b[0;34m\u001b[0m\u001b[0m\n",
      "\u001b[0;31mAttributeError\u001b[0m: 'TObject' object has no attribute 'SetName'"
     ]
    },
    {
     "name": "stderr",
     "output_type": "stream",
     "text": [
      "Warning in <TFile::Init>: file /home/cms.dryu/CMSSW_10_6_6/src/Analysis/JMEDAS/notebooks/files/rsgluon_qq_3000GeV.root has no keys\n"
     ]
    }
   ],
   "source": [
    "f_nominal = ROOT.TFile(\"$CMSSW_BASE/src/Analysis/JMEDAS/notebooks/files/rsgluon_qq_3000GeV.root\")\n",
    "h_nominal = f_nominal.Get(\"h_dijet_mass\")\n",
    "h_nominal.SetName(\"h_dijet_mass_nominal\")\n",
    "h_nominal.SetDirectory(0)\n",
    "h_gen = f_nominal.Get(\"h_dijet_genmass\")\n",
    "h_gen.SetDirectory(0)\n",
    "f_nominal.Close()\n",
    "\n",
    "f_corr = ROOT.TFile(\"$CMSSW_BASE/src/Analysis/JMEDAS/notebooks/files/rsgluon_qq_3000GeV_corr.root\")\n",
    "h_corr = f_corr.Get(\"h_dijet_mass\")\n",
    "h_corr.SetName(\"h_dijet_mass_corr\")\n",
    "h_corr.SetDirectory(0)\n",
    "f_corr.Close()\n",
    "\n",
    "f_smear = ROOT.TFile(\"$CMSSW_BASE/src/Analysis/JMEDAS/notebooks/files/rsgluon_qq_3000GeV_smear.root\")\n",
    "h_smear = f_smear.Get(\"h_dijet_mass\")\n",
    "h_smear.SetName(\"h_dijet_mass_smear\")\n",
    "h_smear.SetDirectory(0)\n",
    "f_smear.Close()\n",
    "\n",
    "f_corr_smear = ROOT.TFile(\"$CMSSW_BASE/src/Analysis/JMEDAS/notebooks/files/rsgluon_qq_3000GeV_corr_smear.root\")\n",
    "h_corr_smear = f_corr_smear.Get(\"h_dijet_mass\")\n",
    "h_corr_smear.SetName(\"h_dijet_mass_corr_smear\")\n",
    "h_corr_smear.SetDirectory(0)\n",
    "f_corr_smear.Close()\n",
    "\n",
    "rebin = 4\n",
    "\n",
    "c_dijet = ROOT.TCanvas(\"c_dijet\", \"Dijet mass (#Delta#eta<1.2)\", 800, 600)\n",
    "h_gen.SetLineColor(ROOT.kBlack)\n",
    "h_gen.Rebin(rebin)\n",
    "h_gen.Draw(\"hist\")\n",
    "\n",
    "h_nominal.SetLineColor(ROOT.kRed-1)\n",
    "h_nominal.SetLineStyle(3)\n",
    "h_nominal.Rebin(rebin)\n",
    "h_nominal.Draw(\"hist same\")\n",
    "\n",
    "h_corr.SetLineColor(ROOT.kBlue+2)\n",
    "h_corr.SetLineStyle(4)\n",
    "h_corr.Rebin(rebin)\n",
    "h_corr.Draw(\"hist same\")\n",
    "\n",
    "h_smear.SetLineColor(ROOT.kGreen-1)\n",
    "h_smear.SetLineStyle(5)\n",
    "h_smear.Rebin(rebin)\n",
    "h_smear.Draw(\"hist same\")\n",
    "\n",
    "h_corr_smear.SetLineColor(ROOT.kMagenta)\n",
    "h_corr_smear.SetLineStyle(2)\n",
    "h_corr_smear.Rebin(rebin)\n",
    "h_corr_smear.Draw(\"hist same\")\n",
    "\n",
    "l_dijet = ROOT.TLegend(0.22, 0.5, 0.4, 0.8)\n",
    "l_dijet.SetFillColor(0)\n",
    "l_dijet.SetFillStyle(0)\n",
    "l_dijet.SetBorderSize(0)\n",
    "l_dijet.AddEntry(h_gen, \"Gen jets\", \"l\")\n",
    "l_dijet.AddEntry(h_nominal, \"Uncorrected\", \"pl\")\n",
    "l_dijet.AddEntry(h_corr, \"Corrected\", \"pl\")\n",
    "l_dijet.AddEntry(h_smear, \"Smeared\", \"pl\")\n",
    "l_dijet.AddEntry(h_corr_smear, \"Corr+smear\", \"pl\")\n",
    "l_dijet.Draw()\n",
    "\n",
    "c_dijet.Draw()\n"
   ]
  },
  {
   "cell_type": "markdown",
   "metadata": {},
   "source": [
    "# Conclusion\n",
    "\n",
    "This is the end of part 1 of the jets short exercise. If there is spare time remaining, we suggest going through some of the reference material from the first exercise. Otherwise, let's move on to part 2, where we'll talk about jet substructure."
   ]
  },
  {
   "cell_type": "code",
   "execution_count": null,
   "metadata": {},
   "outputs": [],
   "source": []
  }
 ],
 "metadata": {
  "kernelspec": {
   "display_name": "hats-jec",
   "language": "python",
   "name": "hats-jec"
  },
  "language_info": {
   "codemirror_mode": {
    "name": "ipython",
    "version": 2
   },
   "file_extension": ".py",
   "mimetype": "text/x-python",
   "name": "python",
   "nbconvert_exporter": "python",
   "pygments_lexer": "ipython2",
   "version": "2.7.15+"
  }
 },
 "nbformat": 4,
 "nbformat_minor": 2
}
