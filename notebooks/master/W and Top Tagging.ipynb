{
 "cells": [
  {
   "cell_type": "markdown",
   "metadata": {},
   "source": [
    "# Setup\n",
    "\n",
    "Run the following lines to produce relevant histograms from the SM ttbar and RS KK gluon samples."
   ]
  },
  {
   "cell_type": "code",
   "execution_count": null,
   "metadata": {},
   "outputs": [],
   "source": [
    "%%bash\n",
    "python $CMSSW_BASE/src/Analysis/JMEDAS/scripts/jmedas_make_histograms.py --files=$CMSSW_BASE/src/Analysis/JMEDAS/data/MiniAODs/RunIIFall17MiniAODv2/ttjets.txt --outname=$CMSSW_BASE/src/Analysis/JMEDAS/notebooks/files/ttjets.root --maxevents=2000 --maxFiles 10 --maxjets=6\n",
    "python $CMSSW_BASE/src/Analysis/JMEDAS/scripts/jmedas_make_histograms.py --files=$CMSSW_BASE/src/Analysis/JMEDAS/data/MiniAODs/RunIIFall17MiniAODv2/rsgluon_ttbar_3000GeV.txt --outname=$CMSSW_BASE/src/Analysis/JMEDAS/notebooks/files/rsgluon_ttbar_3TeV.root --maxevents=2000 --maxFiles 10 --maxjets=6"
   ]
  },
  {
   "cell_type": "markdown",
   "metadata": {},
   "source": [
    "# W Tagging\n",
    "\n",
    "We will now investigate how to identify W bosons using the substructure techniques we've learned. \n",
    "\n",
    "Compare the tau2 / tau1 ratio for the boosted top quarks from the RS KK gluon sample, and the jets from the ttbar sample:\n",
    "<details>\n",
    "<summary>\n",
    "    <font color='blue'>Show answer...</font>\n",
    "</summary>\n",
    "The plot should look like this:\n",
    "\n",
    "<img src=\"..//files/ak8tau21.png\" width=400px/>\n",
    "</details>"
   ]
  },
  {
   "cell_type": "code",
   "execution_count": null,
   "metadata": {},
   "outputs": [],
   "source": [
    "import ROOT\n",
    "\n",
    "f1 = ROOT.TFile(\"$CMSSW_BASE/src/Analysis/JMEDAS/notebooks/files/ttjets.root\")\n",
    "f2 = ROOT.TFile(\"$CMSSW_BASE/src/Analysis/JMEDAS/notebooks/files/rsgluon_ttbar_3TeV.root\")\n",
    "\n",
    "h_tau21AK8_1 = f1.Get(\"h_tau21AK8\")\n",
    "h_tau21AK8_2 = f2.Get(\"h_tau21AK8\")\n",
    "\n",
    "h_tau21AK8_1.SetLineColor(1)\n",
    "h_tau21AK8_2.SetLineColor(2)\n",
    "\n",
    "leg = ROOT.TLegend(0.15, 0.6, 0.35, 0.8)\n",
    "leg.SetFillColor(0)\n",
    "leg.SetBorderSize(0)\n",
    "leg.AddEntry(h_tau21AK8_1, \"t#bar{t}\", 'l')\n",
    "leg.AddEntry(h_tau21AK8_2, \"RS KK Gluon\", 'l')\n",
    "\n",
    "h_tau21AK8_1.Sumw2()\n",
    "h_tau21AK8_1.Scale( 1.0 / h_tau21AK8_1.Integral() )\n",
    "h_tau21AK8_2.Sumw2()\n",
    "h_tau21AK8_2.Scale( 1.0 / h_tau21AK8_2.Integral() )\n",
    "\n",
    "c_tau21 = ROOT.TCanvas('c_tau21', 'c_tau21') \n",
    "h_tau21AK8_1.Draw(\"hist\")\n",
    "h_tau21AK8_2.Draw(\"same hist\")\n",
    "leg.Draw()\n",
    "c_tau21.Draw()\n"
   ]
  },
  {
   "cell_type": "markdown",
   "metadata": {},
   "source": [
    "Now compare with the energy correlation function, N2b1:\n",
    "<details>\n",
    "<summary>\n",
    "    <font color='blue'>Show answer...</font>\n",
    "</summary>\n",
    "The plot should look like this:\n",
    "\n",
    "<img src=\"..//files/ak8N2b1.png\" width=400px/>\n",
    "</details>"
   ]
  },
  {
   "cell_type": "code",
   "execution_count": null,
   "metadata": {},
   "outputs": [],
   "source": [
    "import ROOT\n",
    "\n",
    "f1 = ROOT.TFile(\"$CMSSW_BASE/src/Analysis/JMEDAS/notebooks/files/ttjets.root\")\n",
    "f2 = ROOT.TFile(\"$CMSSW_BASE/src/Analysis/JMEDAS/notebooks/files/rsgluon_ttbar_3TeV.root\")\n",
    "\n",
    "h_ak8_N2_beta1_1 = f1.Get(\"h_ak8_N2_beta1\")\n",
    "h_ak8_N2_beta1_2 = f2.Get(\"h_ak8_N2_beta1\")\n",
    "\n",
    "h_ak8_N2_beta1_1.SetLineColor(1)\n",
    "h_ak8_N2_beta1_2.SetLineColor(2)\n",
    "\n",
    "leg = ROOT.TLegend(0.65, 0.5, 0.85, 0.7)\n",
    "leg.SetFillColor(0)\n",
    "leg.SetBorderSize(0)\n",
    "leg.AddEntry(h_ak8_N2_beta1_1, \"t#bar{t}\", 'l')\n",
    "leg.AddEntry(h_ak8_N2_beta1_2, \"RS KK Gluon\", 'l')\n",
    "\n",
    "h_ak8_N2_beta1_1.Sumw2()\n",
    "h_ak8_N2_beta1_1.Scale( 1.0 / h_ak8_N2_beta1_1.Integral() )\n",
    "h_ak8_N2_beta1_2.Sumw2()\n",
    "h_ak8_N2_beta1_2.Scale( 1.0 / h_ak8_N2_beta1_2.Integral() )\n",
    "\n",
    "c_n2 = ROOT.TCanvas('c_n2', 'c_n2') \n",
    "h_ak8_N2_beta1_1.Draw(\"hist\")\n",
    "h_ak8_N2_beta1_2.Draw(\"same hist\")\n",
    "leg.Draw()\n",
    "c_n2.Draw()"
   ]
  },
  {
   "cell_type": "markdown",
   "metadata": {},
   "source": [
    "# Quiz\n",
    "\n",
    "*  Why are these jets all effectively the same between tt and RS KK gluon?\n",
    "* How could we see a difference? (Another event selection? If so, which? Another sample? If so, which?) "
   ]
  },
  {
   "cell_type": "markdown",
   "metadata": {},
   "source": [
    "# Top Tagging\n",
    "\n",
    "We will now investigate how to identify top quarks using the substructure techniques we've learned.\n",
    "\n",
    "Compare the tau3/ tau2ratio for the boosted top quarks from the RS KK gluon sample, and the jets from the ttbar sample:\n",
    "<details>\n",
    "<summary>\n",
    "    <font color='blue'>Show answer...</font>\n",
    "</summary>\n",
    "The plot should look like this:\n",
    "\n",
    "<img src=\"../files/ak8tau32.png\" width=400px/>\n",
    "</details>"
   ]
  },
  {
   "cell_type": "code",
   "execution_count": null,
   "metadata": {},
   "outputs": [],
   "source": [
    "import ROOT\n",
    "\n",
    "f1 = ROOT.TFile(\"$CMSSW_BASE/src/Analysis/JMEDAS/notebooks/files/ttjets.root\")\n",
    "f2 = ROOT.TFile(\"$CMSSW_BASE/src/Analysis/JMEDAS/notebooks/files/rsgluon_ttbar_3TeV.root\")\n",
    "\n",
    "h_tau32AK8_1 = f1.Get(\"h_tau32AK8\")\n",
    "h_tau32AK8_2 = f2.Get(\"h_tau32AK8\")\n",
    "\n",
    "h_tau32AK8_1.SetLineColor(1)\n",
    "h_tau32AK8_2.SetLineColor(2)\n",
    "\n",
    "leg = ROOT.TLegend(0.15, 0.6, 0.35, 0.8)\n",
    "leg.SetFillColor(0)\n",
    "leg.SetBorderSize(0)\n",
    "leg.AddEntry( h_tau32AK8_1, \"t#bar{t}\", 'l')\n",
    "leg.AddEntry( h_tau32AK8_2, \"RS KK Gluon\", 'l')\n",
    "\n",
    "h_tau32AK8_1.Sumw2()\n",
    "h_tau32AK8_1.Scale(1.0 / h_tau32AK8_1.Integral() )\n",
    "h_tau32AK8_2.Sumw2()\n",
    "h_tau32AK8_2.Scale(1.0 / h_tau32AK8_2.Integral() )\n",
    "\n",
    "c_tau32 = ROOT.TCanvas('c_tau32', 'c_tau32') \n",
    "h_tau32AK8_1.Draw(\"hist\")\n",
    "h_tau32AK8_2.Draw(\"same hist\")\n",
    "leg.Draw()\n",
    "c_tau32.Draw()"
   ]
  },
  {
   "cell_type": "markdown",
   "metadata": {},
   "source": [
    "Now compare the energy correlation function N3b1:\n",
    "<details>\n",
    "<summary>\n",
    "    <font color='blue'>Show answer...</font>\n",
    "</summary>\n",
    "The plot should look like this:\n",
    "\n",
    "<img src=\"../files/ak8N3b1.png\" width=400px/>\n",
    "</details>"
   ]
  },
  {
   "cell_type": "code",
   "execution_count": null,
   "metadata": {},
   "outputs": [],
   "source": [
    "import ROOT\n",
    "\n",
    "f1 = ROOT.TFile(\"$CMSSW_BASE/src/Analysis/JMEDAS/notebooks/files/ttjets.root\")\n",
    "f2 = ROOT.TFile(\"$CMSSW_BASE/src/Analysis/JMEDAS/notebooks/files/rsgluon_ttbar_3TeV.root\")\n",
    "\n",
    "h_ak8_N3_beta1_1 = f1.Get(\"h_ak8_N3_beta1\")\n",
    "h_ak8_N3_beta1_2 = f2.Get(\"h_ak8_N3_beta1\")\n",
    "\n",
    "h_ak8_N3_beta1_1.SetLineColor(1)\n",
    "h_ak8_N3_beta1_2.SetLineColor(2)\n",
    "\n",
    "leg = ROOT.TLegend(0.15, 0.5, 0.35, 0.7)\n",
    "leg.SetFillColor(0)\n",
    "leg.SetBorderSize(0)\n",
    "leg.AddEntry( h_ak8_N3_beta1_1, \"t#bar{t}\", 'l')\n",
    "leg.AddEntry( h_ak8_N3_beta1_2, \"RS KK Gluon\", 'l')\n",
    "\n",
    "h_ak8_N3_beta1_1.Sumw2()\n",
    "h_ak8_N3_beta1_1.Scale(1.0 / h_ak8_N3_beta1_1.Integral())\n",
    "h_ak8_N3_beta1_2.Sumw2()\n",
    "h_ak8_N3_beta1_2.Scale(1.0 / h_ak8_N3_beta1_2.Integral())\n",
    "\n",
    "c_n3 = ROOT.TCanvas('c_n3', 'c_n3') \n",
    "h_ak8_N3_beta1_1    .Draw(\"hist\")\n",
    "h_ak8_N3_beta1_2    .Draw(\"same hist\")\n",
    "leg.Draw()\n",
    "c_n3.Draw()"
   ]
  },
  {
   "cell_type": "markdown",
   "metadata": {},
   "source": [
    "# Quiz\n",
    "\n",
    "* Why are the jets in the ttbar sample so different from the RS KK gluon sample? Why is it that there are no boosted top quarks in the ttbar sample, but there are in the RS KK gluon sample?\n",
    "* What cut would you apply to select boosted top quarks? "
   ]
  },
  {
   "cell_type": "markdown",
   "metadata": {},
   "source": [
    "# PUPPI\n",
    "\n",
    "If you take the Pileup & Missing ET tutorial, you will learn more about the PUPPI algorithm. We briefly cover it here -- it is an algorithm which attempts to probabilistically weight individual particles based on how likely they are determined to be from a pileup vertex compared with the leading vertex. PUPPI can improve response and resolution. You can compare the AK8 jet mass reconstructed with the PUPPI algorithm compared to the CHS and SoftDrop algorithms:\n",
    "<details>\n",
    "<summary>\n",
    "    <font color='blue'>Show answer...</font>\n",
    "</summary>\n",
    "The plot should look like this:\n",
    "\n",
    "<img src=\"../files/ak8jetmass.png\" width=400px/>\n",
    "</details>"
   ]
  },
  {
   "cell_type": "code",
   "execution_count": null,
   "metadata": {},
   "outputs": [],
   "source": [
    "import ROOT\n",
    "\n",
    "f = ROOT.TFile(\"$CMSSW_BASE/src/Analysis/JMEDAS/notebooks/files/rsgluon_ttbar_3TeV.root\")\n",
    "\n",
    "h_massAK8_1 = f.Get(\"h_mAK8\")\n",
    "h_massAK8_2 = f.Get(\"h_msoftdropAK8\")\n",
    "h_massAK8_3 = f.Get(\"h_mpuppiAK8\")\n",
    "\n",
    "h_massAK8_1.SetLineColor(1)\n",
    "h_massAK8_2.SetLineColor(2)\n",
    "h_massAK8_3.SetLineColor(3)\n",
    "\n",
    "leg = ROOT.TLegend(0.5, 0.5, 0.7, 0.8)\n",
    "leg.SetFillColor(0)\n",
    "leg.SetBorderSize(0)\n",
    "leg.AddEntry( h_massAK8_1, \"\", \"\")\n",
    "leg.AddEntry( h_massAK8_1, \"CHS\", 'l')\n",
    "leg.AddEntry( h_massAK8_2, \"Soft Drop\", 'l')\n",
    "leg.AddEntry( h_massAK8_3, \"PUPPI\", 'l')\n",
    "\n",
    "h_massAK8_1.Sumw2()\n",
    "h_massAK8_1.Scale( 1.0 / h_massAK8_1.Integral() )\n",
    "h_massAK8_2.Sumw2()\n",
    "h_massAK8_2.Scale( 1.0 / h_massAK8_2.Integral() )\n",
    "h_massAK8_3.Sumw2()\n",
    "h_massAK8_3.Scale( 1.0 / h_massAK8_3.Integral() )\n",
    "\n",
    "c_puppimass = ROOT.TCanvas('c_puppimass', 'c_puppimass') \n",
    "h_massAK8_1.GetXaxis().SetRangeUser(0., 600.)\n",
    "h_massAK8_1.GetYaxis().SetRangeUser(0., max([h_massAK8_1.GetMaximum(), h_massAK8_2.GetMaximum(), h_massAK8_3.GetMaximum()]) * 1.2)\n",
    "h_massAK8_1.Draw(\"hist\")\n",
    "h_massAK8_2.Draw(\"same hist\")\n",
    "h_massAK8_3.Draw(\"same hist\")\n",
    "\n",
    "\n",
    "leg.Draw()\n",
    "c_puppimass.Draw()"
   ]
  },
  {
   "cell_type": "markdown",
   "metadata": {},
   "source": [
    "# Quiz\n",
    "\n",
    "\n",
    "* Compare the responses and resolutions of the different algorithms -- which one seems to do the best?\n",
    "* How can you use them in conjunction with one another?\n",
    "* Find more details about PUPPI from the pileup short exercise -- or ask the facilitators! "
   ]
  },
  {
   "cell_type": "code",
   "execution_count": null,
   "metadata": {},
   "outputs": [],
   "source": []
  }
 ],
 "metadata": {
  "kernelspec": {
   "display_name": "hats-jec",
   "language": "python",
   "name": "hats-jec"
  },
  "language_info": {
   "codemirror_mode": {
    "name": "ipython",
    "version": 2
   },
   "file_extension": ".py",
   "mimetype": "text/x-python",
   "name": "python",
   "nbconvert_exporter": "python",
   "pygments_lexer": "ipython2",
   "version": "2.7.15+"
  }
 },
 "nbformat": 4,
 "nbformat_minor": 2
}
