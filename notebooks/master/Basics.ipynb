{
 "cells": [
  {
   "cell_type": "markdown",
   "metadata": {},
   "source": [
    "# Basics\n",
    "\n",
    "Welcome to the jets short exercise! You should have already run the setup-libraries.ipynb notebook to setup your environment. Run the following code to start this session:"
   ]
  },
  {
   "cell_type": "code",
   "execution_count": null,
   "metadata": {},
   "outputs": [],
   "source": [
    "import os\n",
    "import sys\n",
    "\n",
    "# Loads the ROOT environment and style\n",
    "import ROOT\n",
    "from collections import OrderedDict\n",
    "\n",
    "# Imports for running with CMSSW\n",
    "#from Analysis.JMEDAS.tdrstyle_mod14 import *\n",
    "#from tqdm import tqdm_notebook\n",
    "\n",
    "# Imports for running locally\n",
    "sys.path.append(os.path.expandvars(\"$CMSSW_BASE/src/Analysis/JMEDAS/python\"))\n",
    "#from tdrstyle_mod14 import *\n",
    "#from tqdm import tqdm_notebook\n",
    "\n",
    "#from ipywidgets import FloatProgress\n",
    "#from IPython.display import display\n",
    "\n",
    "# Set the ROOT style\n",
    "#setTDRStyle()"
   ]
  },
  {
   "cell_type": "markdown",
   "metadata": {},
   "source": [
    "# Jet Basics\n",
    "\n",
    "This preliminary exercise will illustrate some of the basic properties of jets in CMS. Let's start by running the histogram-making code on some $t\\bar{t}$ MC. While the script is running, take a look at the script and make sure you understand what it's doing."
   ]
  },
  {
   "cell_type": "code",
   "execution_count": null,
   "metadata": {},
   "outputs": [],
   "source": [
    "%%bash\n",
    "python $CMSSW_BASE/src/Analysis/JMEDAS/scripts/jmedas_make_histograms.py --files=$CMSSW_BASE/src/Analysis/JMEDAS/data/MiniAODs/RunIIFall17MiniAODv2/ttjets.txt --outname=$CMSSW_BASE/src/Analysis/JMEDAS/notebooks/files/ttjets.root --maxevents=2000 --maxjets=6 --maxFiles 5\n"
   ]
  },
  {
   "cell_type": "markdown",
   "metadata": {},
   "source": [
    "Now let's plot the resulting histograms:"
   ]
  },
  {
   "cell_type": "code",
   "execution_count": null,
   "metadata": {},
   "outputs": [],
   "source": [
    "f = ROOT.TFile(\"$CMSSW_BASE/src/Analysis/JMEDAS/notebooks/files/ttjets.root\")\n",
    "\n",
    "h_ptAK4   = f.Get(\"h_ptAK4\")\n",
    "h_etaAK4  = f.Get(\"h_etaAK4\")\n",
    "h_phiAK4  = f.Get(\"h_phiAK4\")\n",
    "h_mAK4    = f.Get(\"h_mAK4\")\n",
    "\n",
    "c = ROOT.TCanvas('c', 'c', 800, 600)\n",
    "\n",
    "c.Divide(2,2)\n",
    "c.cd(1)\n",
    "ROOT.gPad.SetLogy()\n",
    "h_ptAK4.Draw()\n",
    "h_ptAK4.GetXaxis().SetRangeUser(0, 1000)\n",
    "c.cd(2)\n",
    "h_etaAK4.Draw()\n",
    "c.cd(3)\n",
    "h_phiAK4.Draw()\n",
    "h_phiAK4.SetMinimum(0)\n",
    "c.cd(4)\n",
    "ROOT.gPad.SetLogy()\n",
    "h_mAK4.Draw()\n",
    "h_mAK4.GetXaxis().SetRangeUser(0, 200)\n",
    "ROOT.gPad.SetLogy()\n",
    "\n",
    "ROOT.enableJSVis()\n",
    "c.Draw()\n",
    "#c.Print('plots1.png', 'png')\n",
    "#c.Print('plots1.pdf', 'pdf')\n"
   ]
  },
  {
   "cell_type": "markdown",
   "metadata": {},
   "source": [
    "Your histograms from step 4 above should look similar to the four plots shown below. What about AK8 jets? Add the corresponding histograms to the same canvases, they are already filled and available (draw option 'same', line color 'ROOT.kRed'). "
   ]
  },
  {
   "cell_type": "markdown",
   "metadata": {},
   "source": [
    "![Basic jet kinematics](../files/plots1.png)"
   ]
  },
  {
   "cell_type": "code",
   "execution_count": null,
   "metadata": {},
   "outputs": [],
   "source": []
  }
 ],
 "metadata": {
  "kernelspec": {
   "display_name": "hats-jec",
   "language": "python",
   "name": "hats-jec"
  },
  "language_info": {
   "codemirror_mode": {
    "name": "ipython",
    "version": 2
   },
   "file_extension": ".py",
   "mimetype": "text/x-python",
   "name": "python",
   "nbconvert_exporter": "python",
   "pygments_lexer": "ipython2",
   "version": "2.7.15+"
  }
 },
 "nbformat": 4,
 "nbformat_minor": 2
}
