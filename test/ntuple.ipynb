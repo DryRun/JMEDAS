{
 "cells": [
  {
   "cell_type": "markdown",
   "metadata": {},
   "source": [
    "Ntuple Production\n",
    "=================\n",
    "\n",
    "Normally we would have you start by producing several (6) ntuples with various corrections and systematics applied. However, this is a time consumimg process and it is not necessary for each of you to perform this task. Thus we will be providing a set of large ntuples for you to copy locally."
   ]
  },
  {
   "cell_type": "markdown",
   "metadata": {},
   "source": [
    "If you would like to produce your own ntuples, you can get started by using the code below. This is the script used to make the ntuples you will be using.\n",
    "\n",
    "```python\n",
    "#! /usr/bin/env python\n",
    "import subprocess, shlex\n",
    "\n",
    "def get_commands():\n",
    "    command_dict = {\n",
    "        \"JECNtuple_MiniAOD\"                    : \"ofilename=JECNtuple_MiniAOD.root maxEvents=100000\",\n",
    "        \"JECNtuple_MiniAOD_JESUncertaintyUp\"   : \"ofilename=JECNtuple_MiniAOD_JESUncertaintyUp.root JESUncertainty=up maxEvents=100000\",\n",
    "        \"JECNtuple_MiniAOD_JESUncertaintyDown\" : \"ofilename=JECNtuple_MiniAOD_JESUncertaintyDown.root JESUncertainty=down maxEvents=100000\",\n",
    "        \"JECNtuple_MiniAOD_JER\"                : \"ofilename=JECNtuple_MiniAOD_JER.root JERUncertainty=nominal maxEvents=100000\",\n",
    "        \"JECNtuple_MiniAOD_JERUncertaintyUp\"   : \"ofilename=JECNtuple_MiniAOD_JERUncertaintyUp.root JERUncertainty=up maxEvents=100000\",\n",
    "        \"JECNtuple_MiniAOD_JERUncertaintyDown\" : \"ofilename=JECNtuple_MiniAOD_JERUncertaintyDown.root JERUncertainty=down maxEvents=100000\",\n",
    "    }\n",
    "    return command_dict\n",
    "\n",
    "def main(debug = False):\n",
    "    print \"Starting to run a series of cmsRun commands ... \"\n",
    "\n",
    "    command_dict = get_commands()\n",
    "    child_filenames = []\n",
    "    procs = []\n",
    "    for name, cmd in command_dict.iteritems():\n",
    "        if cmd.find(\"ofilename=\") or cmd.startswith(\"ofilename=\"):\n",
    "            child_filenames.append(cmd.split(\"ofilename=\")[1].split()[0])\n",
    "        else:\n",
    "            child_filenames.append(\"JECNtuple.root\")\n",
    "\n",
    "        command = \"nohup cmsRun jmehats_JEC.py print \" + cmd\n",
    "        if debug:\n",
    "            print \"The current command is\",command\n",
    "        out=open(name+\".log\",\"w\")\n",
    "        procs.append(subprocess.Popen(shlex.split(command), shell=False, stdout=out, stderr=subprocess.STDOUT))\n",
    "\n",
    "    return_code_sum = 0\n",
    "    for iproc in procs:\n",
    "        return_code_sum+=iproc.wait()\n",
    "    out.close()\n",
    "\n",
    "    if return_code_sum==0:\n",
    "        print \"All ntuples created successfully!\"\n",
    "        print \"The ntuples created are named:\"\n",
    "        for n in child_filenames:\n",
    "            print \"\\t\"+n\n",
    "    else:\n",
    "        print \"One or more of the ntuples were not created successfully :(\"\n",
    "        exit(-1)\n",
    "\n",
    "if __name__ == '__main__':\n",
    "    main()\n",
    "```"
   ]
  },
  {
   "cell_type": "markdown",
   "metadata": {},
   "source": [
    "Instead, please run these commands to copy a set of ntuples stored on FNAL EOS to your local area."
   ]
  },
  {
   "cell_type": "code",
   "execution_count": null,
   "metadata": {},
   "outputs": [],
   "source": [
    "xrdcp root://cmseos.fnal.gov//store/user/hats/2018/JEC/JECNtuple_MiniAOD.root .\n",
    "xrdcp root://cmseos.fnal.gov//store/user/hats/2018/JEC/JECNtuple_MiniAOD_JESUncertaintyUp.root .\n",
    "xrdcp root://cmseos.fnal.gov//store/user/hats/2018/JEC/JECNtuple_MiniAOD_JESUncertaintyDown.root .\n",
    "xrdcp root://cmseos.fnal.gov//store/user/hats/2018/JEC/JECNtuple_MiniAOD_JER.root .\n",
    "xrdcp root://cmseos.fnal.gov//store/user/hats/2018/JEC/JECNtuple_MiniAOD_JERUncertaintyUp.root .\n",
    "xrdcp root://cmseos.fnal.gov//store/user/hats/2018/JEC/JECNtuple_MiniAOD_JERUncertaintyDown.root ."
   ]
  }
 ],
 "metadata": {
  "kernelspec": {
   "display_name": "hats-jec",
   "language": "python",
   "name": "hats-jec"
  },
  "language_info": {
   "codemirror_mode": {
    "name": "ipython",
    "version": 2
   },
   "file_extension": ".py",
   "mimetype": "text/x-python",
   "name": "python",
   "nbconvert_exporter": "python",
   "pygments_lexer": "ipython2",
   "version": "2.7.11"
  }
 },
 "nbformat": 4,
 "nbformat_minor": 2
}
